{
 "cells": [
  {
   "cell_type": "markdown",
   "metadata": {},
   "source": [
    "# Kaprekar constant - 6174\n",
    "\n",
    "https://www.youtube.com/watch?v=d8TRcZklX_Q"
   ]
  },
  {
   "cell_type": "code",
   "execution_count": 1,
   "metadata": {},
   "outputs": [],
   "source": [
    "using DataStructures\n",
    "using Plots"
   ]
  },
  {
   "cell_type": "code",
   "execution_count": 2,
   "metadata": {},
   "outputs": [
    {
     "data": {
      "text/plain": [
       "valid (generic function with 1 method)"
      ]
     },
     "metadata": {},
     "output_type": "display_data"
    }
   ],
   "source": [
    "# Check for valid number (4 digits long and not 4 the same digits)\n",
    "function valid(n::Int64)::Bool\n",
    "    s = lpad(n, 4, \"0\")\n",
    "    if maximum(values(counter([digit for digit in s]))) < 4 && length(s) == 4\n",
    "        return true\n",
    "    else\n",
    "        return false\n",
    "    end\n",
    "end"
   ]
  },
  {
   "cell_type": "code",
   "execution_count": 3,
   "metadata": {},
   "outputs": [
    {
     "data": {
      "text/plain": [
       "true"
      ]
     },
     "metadata": {},
     "output_type": "display_data"
    }
   ],
   "source": [
    "# Validate 1234\n",
    "valid(1234)"
   ]
  },
  {
   "cell_type": "code",
   "execution_count": 4,
   "metadata": {},
   "outputs": [
    {
     "data": {
      "text/plain": [
       "7-element BitVector:\n",
       " 1\n",
       " 1\n",
       " 1\n",
       " 0\n",
       " 1\n",
       " 1\n",
       " 1"
      ]
     },
     "metadata": {},
     "output_type": "display_data"
    }
   ],
   "source": [
    "# Validate multiple va,ues\n",
    "valid.([1234, 1122, 1112, 1111, 111, 11, 1])"
   ]
  },
  {
   "cell_type": "code",
   "execution_count": 5,
   "metadata": {},
   "outputs": [
    {
     "data": {
      "text/plain": [
       "high_minus_low (generic function with 2 methods)"
      ]
     },
     "metadata": {},
     "output_type": "display_data"
    }
   ],
   "source": [
    "# High minus low calculation: 9218 --> 9821 - 1289\n",
    "function high_minus_low(n::Int64, print_calculation::Bool=false)::Int64\n",
    "    s = lpad(n, 4, \"0\")\n",
    "    high = parse(Int64, join(sort([digit for digit in s], rev=true)))\n",
    "    low = parse(Int64, join(sort([digit for digit in s], rev=false)))\n",
    "    high_min_low = high - low\n",
    "    if print_calculation\n",
    "        println(high)\n",
    "        println(lpad(low, 4, \"0\"))\n",
    "        println(\"==== -/-\")\n",
    "        println(lpad(high_min_low, 4, \"0\"))\n",
    "        println(\"----\")\n",
    "    end\n",
    "    return high_min_low\n",
    "end"
   ]
  },
  {
   "cell_type": "code",
   "execution_count": 6,
   "metadata": {},
   "outputs": [
    {
     "data": {
      "text/plain": [
       "8532"
      ]
     },
     "metadata": {},
     "output_type": "display_data"
    }
   ],
   "source": [
    "# Demo\n",
    "high_minus_low(9218)"
   ]
  },
  {
   "cell_type": "code",
   "execution_count": 7,
   "metadata": {},
   "outputs": [
    {
     "name": "stdout",
     "output_type": "stream",
     "text": [
      "9821\n",
      "1289\n",
      "==== -/-\n",
      "8532\n",
      "----\n"
     ]
    }
   ],
   "source": [
    "# Demo\n",
    "high_minus_low(9218, true);"
   ]
  },
  {
   "cell_type": "code",
   "execution_count": 8,
   "metadata": {},
   "outputs": [
    {
     "data": {
      "text/plain": [
       "kaprekar (generic function with 2 methods)"
      ]
     },
     "metadata": {},
     "output_type": "display_data"
    }
   ],
   "source": [
    "# Returns true if n converges to the kaprekar number else false\n",
    "function kaprekar(n::Int64, print_calc=false)::Bool\n",
    "    if valid(n)\n",
    "        k = 6174 # kaprekar value\n",
    "        r = n # initial result\n",
    "        while r != k\n",
    "            r = high_minus_low(r, print_calc)\n",
    "        end\n",
    "        return true\n",
    "    else\n",
    "        return false\n",
    "    end\n",
    "end"
   ]
  },
  {
   "cell_type": "code",
   "execution_count": 9,
   "metadata": {},
   "outputs": [
    {
     "name": "stdout",
     "output_type": "stream",
     "text": [
      "9821\n",
      "1289\n",
      "==== -/-\n",
      "8532\n",
      "----\n",
      "8532\n",
      "2358\n",
      "==== -/-\n",
      "6174\n",
      "----\n"
     ]
    }
   ],
   "source": [
    "# Demo\n",
    "kaprekar(9218, true);"
   ]
  },
  {
   "cell_type": "code",
   "execution_count": 10,
   "metadata": {},
   "outputs": [
    {
     "data": {
      "text/plain": [
       "true"
      ]
     },
     "metadata": {},
     "output_type": "display_data"
    }
   ],
   "source": [
    "# Demo\n",
    "kaprekar(9218)"
   ]
  },
  {
   "cell_type": "code",
   "execution_count": 11,
   "metadata": {},
   "outputs": [],
   "source": [
    "# Kaprekar check for numbers 1 to 9999\n",
    "kaprekar_array = BitArray(falses(9999))\n",
    "\n",
    "for i in 1:length(kaprekar_array)\n",
    "    kaprekar_array[i] = kaprekar(i)\n",
    "end"
   ]
  },
  {
   "cell_type": "code",
   "execution_count": 12,
   "metadata": {},
   "outputs": [
    {
     "data": {
      "text/plain": [
       "9-element Vector{Int64}:\n",
       " 1111\n",
       " 2222\n",
       " 3333\n",
       " 4444\n",
       " 5555\n",
       " 6666\n",
       " 7777\n",
       " 8888\n",
       " 9999"
      ]
     },
     "metadata": {},
     "output_type": "display_data"
    }
   ],
   "source": [
    "# Find all values that do not converge to the kaprekar number\n",
    "findall(x -> x == false, kaprekar_array)"
   ]
  },
  {
   "cell_type": "code",
   "execution_count": 13,
   "metadata": {},
   "outputs": [
    {
     "name": "stdout",
     "output_type": "stream",
     "text": [
      "1000\n",
      "0001\n",
      "==== -/-\n",
      "0999\n",
      "----\n",
      "9990\n",
      "0999\n",
      "==== -/-\n",
      "8991\n",
      "----\n",
      "9981\n",
      "1899\n",
      "==== -/-\n",
      "8082\n",
      "----\n",
      "8820\n",
      "0288\n",
      "==== -/-\n",
      "8532\n",
      "----\n",
      "8532\n",
      "2358\n",
      "==== -/-\n",
      "6174\n",
      "----\n"
     ]
    }
   ],
   "source": [
    "# Demo\n",
    "kaprekar(1, true);"
   ]
  },
  {
   "cell_type": "code",
   "execution_count": 14,
   "metadata": {},
   "outputs": [
    {
     "data": {
      "text/plain": [
       "kaprekar_count (generic function with 1 method)"
      ]
     },
     "metadata": {},
     "output_type": "display_data"
    }
   ],
   "source": [
    "# Returns the number of steps to converge\n",
    "function kaprekar_count(n::Int64)::Int64\n",
    "    if valid(n)\n",
    "        k = 6174 # kaprekar value\n",
    "        r = n # initial result\n",
    "        c = 0 # counter\n",
    "        while r != k\n",
    "            r = high_minus_low(r)\n",
    "            c += 1\n",
    "        end\n",
    "        return c\n",
    "    else\n",
    "        return -1\n",
    "    end\n",
    "end"
   ]
  },
  {
   "cell_type": "code",
   "execution_count": 15,
   "metadata": {},
   "outputs": [
    {
     "data": {
      "text/plain": [
       "2"
      ]
     },
     "metadata": {},
     "output_type": "display_data"
    }
   ],
   "source": [
    "# Demo\n",
    "kaprekar_count(9218)"
   ]
  },
  {
   "cell_type": "code",
   "execution_count": 16,
   "metadata": {},
   "outputs": [],
   "source": [
    "# Count steps to converge\n",
    "kap_count = Vector{Int64}()\n",
    "\n",
    "for i in 1:9999\n",
    "    push!(kap_count, kaprekar_count(i))\n",
    "end"
   ]
  },
  {
   "cell_type": "code",
   "execution_count": 17,
   "metadata": {},
   "outputs": [
    {
     "name": "stdout",
     "output_type": "stream",
     "text": [
      "Maximum of 7 steps to converge\n"
     ]
    },
    {
     "data": {
      "text/plain": [
       "2184-element Vector{Int64}:\n",
       "   14\n",
       "   15\n",
       "   16\n",
       "   25\n",
       "   41\n",
       "   49\n",
       "   51\n",
       "   52\n",
       "   58\n",
       "   59\n",
       "    ⋮\n",
       " 9941\n",
       " 9947\n",
       " 9948\n",
       " 9950\n",
       " 9958\n",
       " 9974\n",
       " 9983\n",
       " 9984\n",
       " 9985"
      ]
     },
     "metadata": {},
     "output_type": "display_data"
    }
   ],
   "source": [
    "# Display numbers the maximum steps to converge\n",
    "m = maximum(kap_count)\n",
    "println(\"Maximum of $m steps to converge\")\n",
    "findall(x -> x == m, kap_count)"
   ]
  },
  {
   "cell_type": "code",
   "execution_count": 18,
   "metadata": {},
   "outputs": [
    {
     "data": {
      "text/plain": [
       "7"
      ]
     },
     "metadata": {},
     "output_type": "display_data"
    }
   ],
   "source": [
    "# Demo\n",
    "kaprekar_count(14)"
   ]
  },
  {
   "cell_type": "code",
   "execution_count": 19,
   "metadata": {},
   "outputs": [
    {
     "name": "stdout",
     "output_type": "stream",
     "text": [
      "4100\n",
      "0014\n",
      "==== -/-\n",
      "4086\n",
      "----\n",
      "8640\n",
      "0468\n",
      "==== -/-\n",
      "8172\n",
      "----\n",
      "8721\n",
      "1278\n",
      "==== -/-\n",
      "7443\n",
      "----\n",
      "7443\n",
      "3447\n",
      "==== -/-\n",
      "3996\n",
      "----\n",
      "9963\n",
      "3699\n",
      "==== -/-\n",
      "6264\n",
      "----\n",
      "6642\n",
      "2466\n",
      "==== -/-\n",
      "4176\n",
      "----\n",
      "7641\n",
      "1467\n",
      "==== -/-\n",
      "6174\n",
      "----\n"
     ]
    }
   ],
   "source": [
    "# Demo\n",
    "kaprekar(14, true);"
   ]
  },
  {
   "cell_type": "code",
   "execution_count": 20,
   "metadata": {},
   "outputs": [
    {
     "data": {
      "image/png": "[encoded data removed]",
      "image/svg+xml": "<?xml version=\"1.0\" encoding=\"utf-8\"?>\n<svg xmlns=\"http://www.w3.org/2000/svg\" xmlns:xlink=\"http://www.w3.org/1999/xlink\" width=\"600\" height=\"400\" viewBox=\"0 0 2400 1600\">\n<defs>\n  <clipPath id=\"clip100\">\n    <rect x=\"0\" y=\"0\" width=\"2400\" height=\"1600\"/>\n  </clipPath>\n</defs>\n<path clip-path=\"url(#clip100)\" d=\"\nM0 1600 L2400 1600 L2400 0 L0 0  Z\n  \" fill=\"#ffffff\" fill-rule=\"evenodd\" fill-opacity=\"1\"/>\n<defs>\n  <clipPath id=\"clip101\">\n    <rect x=\"480\" y=\"0\" width=\"1681\" height=\"1600\"/>\n  </clipPath>\n</defs>\n<path clip-path=\"url(#clip100)\" d=\"\nM201.019 1486.45 L2352.76 1486.45 L2352.76 47.2441 L201.019 47.2441  Z\n  \" fill=\"#ffffff\" fill-rule=\"evenodd\" fill-opacity=\"1\"/>\n<defs>\n  <clipPath id=\"clip102\">\n    <rect x=\"201\" y=\"47\" width=\"2153\" height=\"1440\"/>\n  </clipPath>\n</defs>\n<polyline clip-path=\"url(#clip102)\" style=\"stroke:#000000; stroke-linecap:butt; stroke-linejoin:round; stroke-width:2; stroke-opacity:0.1; fill:none\" points=\"\n  417.576,1486.45 417.576,47.2441 \n  \"/>\n<polyline clip-path=\"url(#clip102)\" style=\"stroke:#000000; stroke-linecap:butt; stroke-linejoin:round; stroke-width:2; stroke-opacity:0.1; fill:none\" points=\"\n  908.611,1486.45 908.611,47.2441 \n  \"/>\n<polyline clip-path=\"url(#clip102)\" style=\"stroke:#000000; stroke-linecap:butt; stroke-linejoin:round; stroke-width:2; stroke-opacity:0.1; fill:none\" points=\"\n  1399.65,1486.45 1399.65,47.2441 \n  \"/>\n<polyline clip-path=\"url(#clip102)\" style=\"stroke:#000000; stroke-linecap:butt; stroke-linejoin:round; stroke-width:2; stroke-opacity:0.1; fill:none\" points=\"\n  1890.68,1486.45 1890.68,47.2441 \n  \"/>\n<polyline clip-path=\"url(#clip100)\" style=\"stroke:#000000; stroke-linecap:butt; stroke-linejoin:round; stroke-width:4; stroke-opacity:1; fill:none\" points=\"\n  201.019,1486.45 2352.76,1486.45 \n  \"/>\n<polyline clip-path=\"url(#clip100)\" style=\"stroke:#000000; stroke-linecap:butt; stroke-linejoin:round; stroke-width:4; stroke-opacity:1; fill:none\" points=\"\n  417.576,1486.45 417.576,1467.55 \n  \"/>\n<polyline clip-path=\"url(#clip100)\" style=\"stroke:#000000; stroke-linecap:butt; stroke-linejoin:round; stroke-width:4; stroke-opacity:1; fill:none\" points=\"\n  908.611,1486.45 908.611,1467.55 \n  \"/>\n<polyline clip-path=\"url(#clip100)\" style=\"stroke:#000000; stroke-linecap:butt; stroke-linejoin:round; stroke-width:4; stroke-opacity:1; fill:none\" points=\"\n  1399.65,1486.45 1399.65,1467.55 \n  \"/>\n<polyline clip-path=\"url(#clip100)\" style=\"stroke:#000000; stroke-linecap:butt; stroke-linejoin:round; stroke-width:4; stroke-opacity:1; fill:none\" points=\"\n  1890.68,1486.45 1890.68,1467.55 \n  \"/>\n<path clip-path=\"url(#clip100)\" d=\"M417.576 1517.37 Q413.965 1517.37 412.136 1520.93 Q410.33 1524.47 410.33 1531.6 Q410.33 1538.71 412.136 1542.27 Q413.965 1545.82 417.576 1545.82 Q421.21 1545.82 423.015 1542.27 Q424.844 1538.71 424.844 1531.6 Q424.844 1524.47 423.015 1520.93 Q421.21 1517.37 417.576 1517.37 M417.576 1513.66 Q423.386 1513.66 426.441 1518.27 Q429.52 1522.85 429.52 1531.6 Q429.52 1540.33 426.441 1544.94 Q423.386 1549.52 417.576 1549.52 Q411.766 1549.52 408.687 1544.94 Q405.631 1540.33 405.631 1531.6 Q405.631 1522.85 408.687 1518.27 Q411.766 1513.66 417.576 1513.66 Z\" fill=\"#000000\" fill-rule=\"evenodd\" fill-opacity=\"1\" /><path clip-path=\"url(#clip100)\" d=\"M903.264 1544.91 L919.583 1544.91 L919.583 1548.85 L897.639 1548.85 L897.639 1544.91 Q900.301 1542.16 904.884 1537.53 Q909.491 1532.88 910.671 1531.53 Q912.917 1529.01 913.796 1527.27 Q914.699 1525.51 914.699 1523.82 Q914.699 1521.07 912.755 1519.33 Q910.833 1517.6 907.731 1517.6 Q905.532 1517.6 903.079 1518.36 Q900.648 1519.13 897.87 1520.68 L897.87 1515.95 Q900.694 1514.82 903.148 1514.24 Q905.602 1513.66 907.639 1513.66 Q913.009 1513.66 916.204 1516.35 Q919.398 1519.03 919.398 1523.52 Q919.398 1525.65 918.588 1527.57 Q917.801 1529.47 915.694 1532.07 Q915.116 1532.74 912.014 1535.95 Q908.912 1539.15 903.264 1544.91 Z\" fill=\"#000000\" fill-rule=\"evenodd\" fill-opacity=\"1\" /><path clip-path=\"url(#clip100)\" d=\"M1402.66 1518.36 L1390.85 1536.81 L1402.66 1536.81 L1402.66 1518.36 M1401.43 1514.29 L1407.31 1514.29 L1407.31 1536.81 L1412.24 1536.81 L1412.24 1540.7 L1407.31 1540.7 L1407.31 1548.85 L1402.66 1548.85 L1402.66 1540.7 L1387.05 1540.7 L1387.05 1536.19 L1401.43 1514.29 Z\" fill=\"#000000\" fill-rule=\"evenodd\" fill-opacity=\"1\" /><path clip-path=\"url(#clip100)\" d=\"M1891.09 1529.7 Q1887.94 1529.7 1886.09 1531.86 Q1884.26 1534.01 1884.26 1537.76 Q1884.26 1541.49 1886.09 1543.66 Q1887.94 1545.82 1891.09 1545.82 Q1894.24 1545.82 1896.06 1543.66 Q1897.92 1541.49 1897.92 1537.76 Q1897.92 1534.01 1896.06 1531.86 Q1894.24 1529.7 1891.09 1529.7 M1900.37 1515.05 L1900.37 1519.31 Q1898.61 1518.48 1896.8 1518.04 Q1895.02 1517.6 1893.26 1517.6 Q1888.63 1517.6 1886.18 1520.72 Q1883.75 1523.85 1883.4 1530.17 Q1884.77 1528.15 1886.83 1527.09 Q1888.89 1526 1891.36 1526 Q1896.57 1526 1899.58 1529.17 Q1902.61 1532.32 1902.61 1537.76 Q1902.61 1543.08 1899.47 1546.3 Q1896.32 1549.52 1891.09 1549.52 Q1885.09 1549.52 1881.92 1544.94 Q1878.75 1540.33 1878.75 1531.6 Q1878.75 1523.41 1882.64 1518.55 Q1886.53 1513.66 1893.08 1513.66 Q1894.84 1513.66 1896.62 1514.01 Q1898.42 1514.36 1900.37 1515.05 Z\" fill=\"#000000\" fill-rule=\"evenodd\" fill-opacity=\"1\" /><polyline clip-path=\"url(#clip102)\" style=\"stroke:#000000; stroke-linecap:butt; stroke-linejoin:round; stroke-width:2; stroke-opacity:0.1; fill:none\" points=\"\n  201.019,1445.72 2352.76,1445.72 \n  \"/>\n<polyline clip-path=\"url(#clip102)\" style=\"stroke:#000000; stroke-linecap:butt; stroke-linejoin:round; stroke-width:2; stroke-opacity:0.1; fill:none\" points=\"\n  201.019,1162.85 2352.76,1162.85 \n  \"/>\n<polyline clip-path=\"url(#clip102)\" style=\"stroke:#000000; stroke-linecap:butt; stroke-linejoin:round; stroke-width:2; stroke-opacity:0.1; fill:none\" points=\"\n  201.019,879.991 2352.76,879.991 \n  \"/>\n<polyline clip-path=\"url(#clip102)\" style=\"stroke:#000000; stroke-linecap:butt; stroke-linejoin:round; stroke-width:2; stroke-opacity:0.1; fill:none\" points=\"\n  201.019,597.129 2352.76,597.129 \n  \"/>\n<polyline clip-path=\"url(#clip102)\" style=\"stroke:#000000; stroke-linecap:butt; stroke-linejoin:round; stroke-width:2; stroke-opacity:0.1; fill:none\" points=\"\n  201.019,314.266 2352.76,314.266 \n  \"/>\n<polyline clip-path=\"url(#clip100)\" style=\"stroke:#000000; stroke-linecap:butt; stroke-linejoin:round; stroke-width:4; stroke-opacity:1; fill:none\" points=\"\n  201.019,1486.45 201.019,47.2441 \n  \"/>\n<polyline clip-path=\"url(#clip100)\" style=\"stroke:#000000; stroke-linecap:butt; stroke-linejoin:round; stroke-width:4; stroke-opacity:1; fill:none\" points=\"\n  201.019,1445.72 219.917,1445.72 \n  \"/>\n<polyline clip-path=\"url(#clip100)\" style=\"stroke:#000000; stroke-linecap:butt; stroke-linejoin:round; stroke-width:4; stroke-opacity:1; fill:none\" points=\"\n  201.019,1162.85 219.917,1162.85 \n  \"/>\n<polyline clip-path=\"url(#clip100)\" style=\"stroke:#000000; stroke-linecap:butt; stroke-linejoin:round; stroke-width:4; stroke-opacity:1; fill:none\" points=\"\n  201.019,879.991 219.917,879.991 \n  \"/>\n<polyline clip-path=\"url(#clip100)\" style=\"stroke:#000000; stroke-linecap:butt; stroke-linejoin:round; stroke-width:4; stroke-opacity:1; fill:none\" points=\"\n  201.019,597.129 219.917,597.129 \n  \"/>\n<polyline clip-path=\"url(#clip100)\" style=\"stroke:#000000; stroke-linecap:butt; stroke-linejoin:round; stroke-width:4; stroke-opacity:1; fill:none\" points=\"\n  201.019,314.266 219.917,314.266 \n  \"/>\n<path clip-path=\"url(#clip100)\" d=\"M153.075 1431.51 Q149.464 1431.51 147.635 1435.08 Q145.83 1438.62 145.83 1445.75 Q145.83 1452.86 147.635 1456.42 Q149.464 1459.96 153.075 1459.96 Q156.709 1459.96 158.515 1456.42 Q160.343 1452.86 160.343 1445.75 Q160.343 1438.62 158.515 1435.08 Q156.709 1431.51 153.075 1431.51 M153.075 1427.81 Q158.885 1427.81 161.941 1432.42 Q165.019 1437 165.019 1445.75 Q165.019 1454.48 161.941 1459.08 Q158.885 1463.67 153.075 1463.67 Q147.265 1463.67 144.186 1459.08 Q141.131 1454.48 141.131 1445.75 Q141.131 1437 144.186 1432.42 Q147.265 1427.81 153.075 1427.81 Z\" fill=\"#000000\" fill-rule=\"evenodd\" fill-opacity=\"1\" /><path clip-path=\"url(#clip100)\" d=\"M82.7975 1145.57 L101.154 1145.57 L101.154 1149.51 L87.0799 1149.51 L87.0799 1157.98 Q88.0984 1157.63 89.1169 1157.47 Q90.1354 1157.29 91.1539 1157.29 Q96.941 1157.29 100.321 1160.46 Q103.7 1163.63 103.7 1169.05 Q103.7 1174.62 100.228 1177.73 Q96.7558 1180.8 90.4364 1180.8 Q88.2604 1180.8 85.9919 1180.43 Q83.7466 1180.06 81.3392 1179.32 L81.3392 1174.62 Q83.4225 1175.76 85.6447 1176.31 Q87.8669 1176.87 90.3438 1176.87 Q94.3484 1176.87 96.6863 1174.76 Q99.0243 1172.66 99.0243 1169.05 Q99.0243 1165.43 96.6863 1163.33 Q94.3484 1161.22 90.3438 1161.22 Q88.4688 1161.22 86.5938 1161.64 Q84.7419 1162.05 82.7975 1162.93 L82.7975 1145.57 Z\" fill=\"#000000\" fill-rule=\"evenodd\" fill-opacity=\"1\" /><path clip-path=\"url(#clip100)\" d=\"M122.913 1148.65 Q119.302 1148.65 117.473 1152.22 Q115.668 1155.76 115.668 1162.89 Q115.668 1169.99 117.473 1173.56 Q119.302 1177.1 122.913 1177.1 Q126.547 1177.1 128.353 1173.56 Q130.182 1169.99 130.182 1162.89 Q130.182 1155.76 128.353 1152.22 Q126.547 1148.65 122.913 1148.65 M122.913 1144.95 Q128.723 1144.95 131.779 1149.55 Q134.857 1154.14 134.857 1162.89 Q134.857 1171.61 131.779 1176.22 Q128.723 1180.8 122.913 1180.8 Q117.103 1180.8 114.024 1176.22 Q110.969 1171.61 110.969 1162.89 Q110.969 1154.14 114.024 1149.55 Q117.103 1144.95 122.913 1144.95 Z\" fill=\"#000000\" fill-rule=\"evenodd\" fill-opacity=\"1\" /><path clip-path=\"url(#clip100)\" d=\"M153.075 1148.65 Q149.464 1148.65 147.635 1152.22 Q145.83 1155.76 145.83 1162.89 Q145.83 1169.99 147.635 1173.56 Q149.464 1177.1 153.075 1177.1 Q156.709 1177.1 158.515 1173.56 Q160.343 1169.99 160.343 1162.89 Q160.343 1155.76 158.515 1152.22 Q156.709 1148.65 153.075 1148.65 M153.075 1144.95 Q158.885 1144.95 161.941 1149.55 Q165.019 1154.14 165.019 1162.89 Q165.019 1171.61 161.941 1176.22 Q158.885 1180.8 153.075 1180.8 Q147.265 1180.8 144.186 1176.22 Q141.131 1171.61 141.131 1162.89 Q141.131 1154.14 144.186 1149.55 Q147.265 1144.95 153.075 1144.95 Z\" fill=\"#000000\" fill-rule=\"evenodd\" fill-opacity=\"1\" /><path clip-path=\"url(#clip100)\" d=\"M53.3995 893.336 L61.0384 893.336 L61.0384 866.97 L52.7282 868.637 L52.7282 864.378 L60.9921 862.711 L65.668 862.711 L65.668 893.336 L73.3068 893.336 L73.3068 897.271 L53.3995 897.271 L53.3995 893.336 Z\" fill=\"#000000\" fill-rule=\"evenodd\" fill-opacity=\"1\" /><path clip-path=\"url(#clip100)\" d=\"M92.7512 865.79 Q89.1401 865.79 87.3114 869.354 Q85.5058 872.896 85.5058 880.026 Q85.5058 887.132 87.3114 890.697 Q89.1401 894.239 92.7512 894.239 Q96.3854 894.239 98.1909 890.697 Q100.02 887.132 100.02 880.026 Q100.02 872.896 98.1909 869.354 Q96.3854 865.79 92.7512 865.79 M92.7512 862.086 Q98.5613 862.086 101.617 866.692 Q104.696 871.276 104.696 880.026 Q104.696 888.752 101.617 893.359 Q98.5613 897.942 92.7512 897.942 Q86.941 897.942 83.8623 893.359 Q80.8068 888.752 80.8068 880.026 Q80.8068 871.276 83.8623 866.692 Q86.941 862.086 92.7512 862.086 Z\" fill=\"#000000\" fill-rule=\"evenodd\" fill-opacity=\"1\" /><path clip-path=\"url(#clip100)\" d=\"M122.913 865.79 Q119.302 865.79 117.473 869.354 Q115.668 872.896 115.668 880.026 Q115.668 887.132 117.473 890.697 Q119.302 894.239 122.913 894.239 Q126.547 894.239 128.353 890.697 Q130.182 887.132 130.182 880.026 Q130.182 872.896 128.353 869.354 Q126.547 865.79 122.913 865.79 M122.913 862.086 Q128.723 862.086 131.779 866.692 Q134.857 871.276 134.857 880.026 Q134.857 888.752 131.779 893.359 Q128.723 897.942 122.913 897.942 Q117.103 897.942 114.024 893.359 Q110.969 888.752 110.969 880.026 Q110.969 871.276 114.024 866.692 Q117.103 862.086 122.913 862.086 Z\" fill=\"#000000\" fill-rule=\"evenodd\" fill-opacity=\"1\" /><path clip-path=\"url(#clip100)\" d=\"M153.075 865.79 Q149.464 865.79 147.635 869.354 Q145.83 872.896 145.83 880.026 Q145.83 887.132 147.635 890.697 Q149.464 894.239 153.075 894.239 Q156.709 894.239 158.515 890.697 Q160.343 887.132 160.343 880.026 Q160.343 872.896 158.515 869.354 Q156.709 865.79 153.075 865.79 M153.075 862.086 Q158.885 862.086 161.941 866.692 Q165.019 871.276 165.019 880.026 Q165.019 888.752 161.941 893.359 Q158.885 897.942 153.075 897.942 Q147.265 897.942 144.186 893.359 Q141.131 888.752 141.131 880.026 Q141.131 871.276 144.186 866.692 Q147.265 862.086 153.075 862.086 Z\" fill=\"#000000\" fill-rule=\"evenodd\" fill-opacity=\"1\" /><path clip-path=\"url(#clip100)\" d=\"M53.3995 610.473 L61.0384 610.473 L61.0384 584.108 L52.7282 585.774 L52.7282 581.515 L60.9921 579.849 L65.668 579.849 L65.668 610.473 L73.3068 610.473 L73.3068 614.409 L53.3995 614.409 L53.3995 610.473 Z\" fill=\"#000000\" fill-rule=\"evenodd\" fill-opacity=\"1\" /><path clip-path=\"url(#clip100)\" d=\"M82.7975 579.849 L101.154 579.849 L101.154 583.784 L87.0799 583.784 L87.0799 592.256 Q88.0984 591.909 89.1169 591.747 Q90.1354 591.561 91.1539 591.561 Q96.941 591.561 100.321 594.733 Q103.7 597.904 103.7 603.321 Q103.7 608.899 100.228 612.001 Q96.7558 615.08 90.4364 615.08 Q88.2604 615.08 85.9919 614.709 Q83.7466 614.339 81.3392 613.598 L81.3392 608.899 Q83.4225 610.034 85.6447 610.589 Q87.8669 611.145 90.3438 611.145 Q94.3484 611.145 96.6863 609.038 Q99.0243 606.932 99.0243 603.321 Q99.0243 599.71 96.6863 597.603 Q94.3484 595.497 90.3438 595.497 Q88.4688 595.497 86.5938 595.913 Q84.7419 596.33 82.7975 597.21 L82.7975 579.849 Z\" fill=\"#000000\" fill-rule=\"evenodd\" fill-opacity=\"1\" /><path clip-path=\"url(#clip100)\" d=\"M122.913 582.927 Q119.302 582.927 117.473 586.492 Q115.668 590.034 115.668 597.163 Q115.668 604.27 117.473 607.835 Q119.302 611.376 122.913 611.376 Q126.547 611.376 128.353 607.835 Q130.182 604.27 130.182 597.163 Q130.182 590.034 128.353 586.492 Q126.547 582.927 122.913 582.927 M122.913 579.224 Q128.723 579.224 131.779 583.83 Q134.857 588.413 134.857 597.163 Q134.857 605.89 131.779 610.497 Q128.723 615.08 122.913 615.08 Q117.103 615.08 114.024 610.497 Q110.969 605.89 110.969 597.163 Q110.969 588.413 114.024 583.83 Q117.103 579.224 122.913 579.224 Z\" fill=\"#000000\" fill-rule=\"evenodd\" fill-opacity=\"1\" /><path clip-path=\"url(#clip100)\" d=\"M153.075 582.927 Q149.464 582.927 147.635 586.492 Q145.83 590.034 145.83 597.163 Q145.83 604.27 147.635 607.835 Q149.464 611.376 153.075 611.376 Q156.709 611.376 158.515 607.835 Q160.343 604.27 160.343 597.163 Q160.343 590.034 158.515 586.492 Q156.709 582.927 153.075 582.927 M153.075 579.224 Q158.885 579.224 161.941 583.83 Q165.019 588.413 165.019 597.163 Q165.019 605.89 161.941 610.497 Q158.885 615.08 153.075 615.08 Q147.265 615.08 144.186 610.497 Q141.131 605.89 141.131 597.163 Q141.131 588.413 144.186 583.83 Q147.265 579.224 153.075 579.224 Z\" fill=\"#000000\" fill-rule=\"evenodd\" fill-opacity=\"1\" /><path clip-path=\"url(#clip100)\" d=\"M56.6171 327.611 L72.9365 327.611 L72.9365 331.546 L50.9921 331.546 L50.9921 327.611 Q53.6541 324.856 58.2375 320.227 Q62.8439 315.574 64.0245 314.231 Q66.2698 311.708 67.1494 309.972 Q68.0522 308.213 68.0522 306.523 Q68.0522 303.769 66.1078 302.032 Q64.1865 300.296 61.0847 300.296 Q58.8856 300.296 56.4319 301.06 Q54.0014 301.824 51.2236 303.375 L51.2236 298.653 Q54.0477 297.519 56.5014 296.94 Q58.955 296.361 60.9921 296.361 Q66.3624 296.361 69.5568 299.046 Q72.7513 301.732 72.7513 306.222 Q72.7513 308.352 71.9411 310.273 Q71.1541 312.171 69.0476 314.764 Q68.4689 315.435 65.367 318.653 Q62.2652 321.847 56.6171 327.611 Z\" fill=\"#000000\" fill-rule=\"evenodd\" fill-opacity=\"1\" /><path clip-path=\"url(#clip100)\" d=\"M92.7512 300.065 Q89.1401 300.065 87.3114 303.63 Q85.5058 307.171 85.5058 314.301 Q85.5058 321.407 87.3114 324.972 Q89.1401 328.514 92.7512 328.514 Q96.3854 328.514 98.1909 324.972 Q100.02 321.407 100.02 314.301 Q100.02 307.171 98.1909 303.63 Q96.3854 300.065 92.7512 300.065 M92.7512 296.361 Q98.5613 296.361 101.617 300.968 Q104.696 305.551 104.696 314.301 Q104.696 323.028 101.617 327.634 Q98.5613 332.217 92.7512 332.217 Q86.941 332.217 83.8623 327.634 Q80.8068 323.028 80.8068 314.301 Q80.8068 305.551 83.8623 300.968 Q86.941 296.361 92.7512 296.361 Z\" fill=\"#000000\" fill-rule=\"evenodd\" fill-opacity=\"1\" /><path clip-path=\"url(#clip100)\" d=\"M122.913 300.065 Q119.302 300.065 117.473 303.63 Q115.668 307.171 115.668 314.301 Q115.668 321.407 117.473 324.972 Q119.302 328.514 122.913 328.514 Q126.547 328.514 128.353 324.972 Q130.182 321.407 130.182 314.301 Q130.182 307.171 128.353 303.63 Q126.547 300.065 122.913 300.065 M122.913 296.361 Q128.723 296.361 131.779 300.968 Q134.857 305.551 134.857 314.301 Q134.857 323.028 131.779 327.634 Q128.723 332.217 122.913 332.217 Q117.103 332.217 114.024 327.634 Q110.969 323.028 110.969 314.301 Q110.969 305.551 114.024 300.968 Q117.103 296.361 122.913 296.361 Z\" fill=\"#000000\" fill-rule=\"evenodd\" fill-opacity=\"1\" /><path clip-path=\"url(#clip100)\" d=\"M153.075 300.065 Q149.464 300.065 147.635 303.63 Q145.83 307.171 145.83 314.301 Q145.83 321.407 147.635 324.972 Q149.464 328.514 153.075 328.514 Q156.709 328.514 158.515 324.972 Q160.343 321.407 160.343 314.301 Q160.343 307.171 158.515 303.63 Q156.709 300.065 153.075 300.065 M153.075 296.361 Q158.885 296.361 161.941 300.968 Q165.019 305.551 165.019 314.301 Q165.019 323.028 161.941 327.634 Q158.885 332.217 153.075 332.217 Q147.265 332.217 144.186 327.634 Q141.131 323.028 141.131 314.301 Q141.131 305.551 144.186 300.968 Q147.265 296.361 153.075 296.361 Z\" fill=\"#000000\" fill-rule=\"evenodd\" fill-opacity=\"1\" /><path clip-path=\"url(#clip102)\" d=\"\nM1546.96 586.946 L1546.96 1445.72 L1743.37 1445.72 L1743.37 586.946 L1546.96 586.946 L1546.96 586.946  Z\n  \" fill=\"#009af9\" fill-rule=\"evenodd\" fill-opacity=\"1\"/>\n<polyline clip-path=\"url(#clip102)\" style=\"stroke:#000000; stroke-linecap:butt; stroke-linejoin:round; stroke-width:4; stroke-opacity:1; fill:none\" points=\"\n  1546.96,586.946 1546.96,1445.72 1743.37,1445.72 1743.37,586.946 1546.96,586.946 \n  \"/>\n<path clip-path=\"url(#clip102)\" d=\"\nM1301.44 726.114 L1301.44 1445.72 L1497.85 1445.72 L1497.85 726.114 L1301.44 726.114 L1301.44 726.114  Z\n  \" fill=\"#009af9\" fill-rule=\"evenodd\" fill-opacity=\"1\"/>\n<polyline clip-path=\"url(#clip102)\" style=\"stroke:#000000; stroke-linecap:butt; stroke-linejoin:round; stroke-width:4; stroke-opacity:1; fill:none\" points=\"\n  1301.44,726.114 1301.44,1445.72 1497.85,1445.72 1497.85,726.114 1301.44,726.114 \n  \"/>\n<path clip-path=\"url(#clip102)\" d=\"\nM1792.47 508.875 L1792.47 1445.72 L1988.89 1445.72 L1988.89 508.875 L1792.47 508.875 L1792.47 508.875  Z\n  \" fill=\"#009af9\" fill-rule=\"evenodd\" fill-opacity=\"1\"/>\n<polyline clip-path=\"url(#clip102)\" style=\"stroke:#000000; stroke-linecap:butt; stroke-linejoin:round; stroke-width:4; stroke-opacity:1; fill:none\" points=\"\n  1792.47,508.875 1792.47,1445.72 1988.89,1445.72 1988.89,508.875 1792.47,508.875 \n  \"/>\n<path clip-path=\"url(#clip102)\" d=\"\nM2037.99 210.173 L2037.99 1445.72 L2234.41 1445.72 L2234.41 210.173 L2037.99 210.173 L2037.99 210.173  Z\n  \" fill=\"#009af9\" fill-rule=\"evenodd\" fill-opacity=\"1\"/>\n<polyline clip-path=\"url(#clip102)\" style=\"stroke:#000000; stroke-linecap:butt; stroke-linejoin:round; stroke-width:4; stroke-opacity:1; fill:none\" points=\"\n  2037.99,210.173 2037.99,1445.72 2234.41,1445.72 2234.41,210.173 2037.99,210.173 \n  \"/>\n<path clip-path=\"url(#clip102)\" d=\"\nM810.404 1119.86 L810.404 1445.72 L1006.82 1445.72 L1006.82 1119.86 L810.404 1119.86 L810.404 1119.86  Z\n  \" fill=\"#009af9\" fill-rule=\"evenodd\" fill-opacity=\"1\"/>\n<polyline clip-path=\"url(#clip102)\" style=\"stroke:#000000; stroke-linecap:butt; stroke-linejoin:round; stroke-width:4; stroke-opacity:1; fill:none\" points=\"\n  810.404,1119.86 810.404,1445.72 1006.82,1445.72 1006.82,1119.86 810.404,1119.86 \n  \"/>\n<path clip-path=\"url(#clip102)\" d=\"\nM319.369 1445.15 L319.369 1445.72 L515.783 1445.72 L515.783 1445.15 L319.369 1445.15 L319.369 1445.15  Z\n  \" fill=\"#009af9\" fill-rule=\"evenodd\" fill-opacity=\"1\"/>\n<polyline clip-path=\"url(#clip102)\" style=\"stroke:#000000; stroke-linecap:butt; stroke-linejoin:round; stroke-width:4; stroke-opacity:1; fill:none\" points=\"\n  319.369,1445.15 319.369,1445.72 515.783,1445.72 515.783,1445.15 319.369,1445.15 \n  \"/>\n<path clip-path=\"url(#clip102)\" d=\"\nM1055.92 87.9763 L1055.92 1445.72 L1252.34 1445.72 L1252.34 87.9763 L1055.92 87.9763 L1055.92 87.9763  Z\n  \" fill=\"#009af9\" fill-rule=\"evenodd\" fill-opacity=\"1\"/>\n<polyline clip-path=\"url(#clip102)\" style=\"stroke:#000000; stroke-linecap:butt; stroke-linejoin:round; stroke-width:4; stroke-opacity:1; fill:none\" points=\"\n  1055.92,87.9763 1055.92,1445.72 1252.34,1445.72 1252.34,87.9763 1055.92,87.9763 \n  \"/>\n<path clip-path=\"url(#clip102)\" d=\"\nM564.886 1229.04 L564.886 1445.72 L761.3 1445.72 L761.3 1229.04 L564.886 1229.04 L564.886 1229.04  Z\n  \" fill=\"#009af9\" fill-rule=\"evenodd\" fill-opacity=\"1\"/>\n<polyline clip-path=\"url(#clip102)\" style=\"stroke:#000000; stroke-linecap:butt; stroke-linejoin:round; stroke-width:4; stroke-opacity:1; fill:none\" points=\"\n  564.886,1229.04 564.886,1445.72 761.3,1445.72 761.3,1229.04 564.886,1229.04 \n  \"/>\n<circle clip-path=\"url(#clip102)\" style=\"fill:#009af9; stroke:none; fill-opacity:0\" cx=\"1645.16\" cy=\"586.946\" r=\"2\"/>\n<circle clip-path=\"url(#clip102)\" style=\"fill:#009af9; stroke:none; fill-opacity:0\" cx=\"1399.65\" cy=\"726.114\" r=\"2\"/>\n<circle clip-path=\"url(#clip102)\" style=\"fill:#009af9; stroke:none; fill-opacity:0\" cx=\"1890.68\" cy=\"508.875\" r=\"2\"/>\n<circle clip-path=\"url(#clip102)\" style=\"fill:#009af9; stroke:none; fill-opacity:0\" cx=\"2136.2\" cy=\"210.173\" r=\"2\"/>\n<circle clip-path=\"url(#clip102)\" style=\"fill:#009af9; stroke:none; fill-opacity:0\" cx=\"908.611\" cy=\"1119.86\" r=\"2\"/>\n<circle clip-path=\"url(#clip102)\" style=\"fill:#009af9; stroke:none; fill-opacity:0\" cx=\"417.576\" cy=\"1445.15\" r=\"2\"/>\n<circle clip-path=\"url(#clip102)\" style=\"fill:#009af9; stroke:none; fill-opacity:0\" cx=\"1154.13\" cy=\"87.9763\" r=\"2\"/>\n<circle clip-path=\"url(#clip102)\" style=\"fill:#009af9; stroke:none; fill-opacity:0\" cx=\"663.093\" cy=\"1229.04\" r=\"2\"/>\n</svg>\n",
      "text/html": [
       "<?xml version=\"1.0\" encoding=\"utf-8\"?>\n",
       "<svg xmlns=\"http://www.w3.org/2000/svg\" xmlns:xlink=\"http://www.w3.org/1999/xlink\" width=\"600\" height=\"400\" viewBox=\"0 0 2400 1600\">\n",
       "<defs>\n",
       "  <clipPath id=\"clip150\">\n",
       "    <rect x=\"0\" y=\"0\" width=\"2400\" height=\"1600\"/>\n",
       "  </clipPath>\n",
       "</defs>\n",
       "<path clip-path=\"url(#clip150)\" d=\"\n",
       "M0 1600 L2400 1600 L2400 0 L0 0  Z\n",
       "  \" fill=\"#ffffff\" fill-rule=\"evenodd\" fill-opacity=\"1\"/>\n",
       "<defs>\n",
       "  <clipPath id=\"clip151\">\n",
       "    <rect x=\"480\" y=\"0\" width=\"1681\" height=\"1600\"/>\n",
       "  </clipPath>\n",
       "</defs>\n",
       "<path clip-path=\"url(#clip150)\" d=\"\n",
       "M201.019 1486.45 L2352.76 1486.45 L2352.76 47.2441 L201.019 47.2441  Z\n",
       "  \" fill=\"#ffffff\" fill-rule=\"evenodd\" fill-opacity=\"1\"/>\n",
       "<defs>\n",
       "  <clipPath id=\"clip152\">\n",
       "    <rect x=\"201\" y=\"47\" width=\"2153\" height=\"1440\"/>\n",
       "  </clipPath>\n",
       "</defs>\n",
       "<polyline clip-path=\"url(#clip152)\" style=\"stroke:#000000; stroke-linecap:butt; stroke-linejoin:round; stroke-width:2; stroke-opacity:0.1; fill:none\" points=\"\n",
       "  417.576,1486.45 417.576,47.2441 \n",
       "  \"/>\n",
       "<polyline clip-path=\"url(#clip152)\" style=\"stroke:#000000; stroke-linecap:butt; stroke-linejoin:round; stroke-width:2; stroke-opacity:0.1; fill:none\" points=\"\n",
       "  908.611,1486.45 908.611,47.2441 \n",
       "  \"/>\n",
       "<polyline clip-path=\"url(#clip152)\" style=\"stroke:#000000; stroke-linecap:butt; stroke-linejoin:round; stroke-width:2; stroke-opacity:0.1; fill:none\" points=\"\n",
       "  1399.65,1486.45 1399.65,47.2441 \n",
       "  \"/>\n",
       "<polyline clip-path=\"url(#clip152)\" style=\"stroke:#000000; stroke-linecap:butt; stroke-linejoin:round; stroke-width:2; stroke-opacity:0.1; fill:none\" points=\"\n",
       "  1890.68,1486.45 1890.68,47.2441 \n",
       "  \"/>\n",
       "<polyline clip-path=\"url(#clip150)\" style=\"stroke:#000000; stroke-linecap:butt; stroke-linejoin:round; stroke-width:4; stroke-opacity:1; fill:none\" points=\"\n",
       "  201.019,1486.45 2352.76,1486.45 \n",
       "  \"/>\n",
       "<polyline clip-path=\"url(#clip150)\" style=\"stroke:#000000; stroke-linecap:butt; stroke-linejoin:round; stroke-width:4; stroke-opacity:1; fill:none\" points=\"\n",
       "  417.576,1486.45 417.576,1467.55 \n",
       "  \"/>\n",
       "<polyline clip-path=\"url(#clip150)\" style=\"stroke:#000000; stroke-linecap:butt; stroke-linejoin:round; stroke-width:4; stroke-opacity:1; fill:none\" points=\"\n",
       "  908.611,1486.45 908.611,1467.55 \n",
       "  \"/>\n",
       "<polyline clip-path=\"url(#clip150)\" style=\"stroke:#000000; stroke-linecap:butt; stroke-linejoin:round; stroke-width:4; stroke-opacity:1; fill:none\" points=\"\n",
       "  1399.65,1486.45 1399.65,1467.55 \n",
       "  \"/>\n",
       "<polyline clip-path=\"url(#clip150)\" style=\"stroke:#000000; stroke-linecap:butt; stroke-linejoin:round; stroke-width:4; stroke-opacity:1; fill:none\" points=\"\n",
       "  1890.68,1486.45 1890.68,1467.55 \n",
       "  \"/>\n",
       "<path clip-path=\"url(#clip150)\" d=\"M417.576 1517.37 Q413.965 1517.37 412.136 1520.93 Q410.33 1524.47 410.33 1531.6 Q410.33 1538.71 412.136 1542.27 Q413.965 1545.82 417.576 1545.82 Q421.21 1545.82 423.015 1542.27 Q424.844 1538.71 424.844 1531.6 Q424.844 1524.47 423.015 1520.93 Q421.21 1517.37 417.576 1517.37 M417.576 1513.66 Q423.386 1513.66 426.441 1518.27 Q429.52 1522.85 429.52 1531.6 Q429.52 1540.33 426.441 1544.94 Q423.386 1549.52 417.576 1549.52 Q411.766 1549.52 408.687 1544.94 Q405.631 1540.33 405.631 1531.6 Q405.631 1522.85 408.687 1518.27 Q411.766 1513.66 417.576 1513.66 Z\" fill=\"#000000\" fill-rule=\"evenodd\" fill-opacity=\"1\" /><path clip-path=\"url(#clip150)\" d=\"M903.264 1544.91 L919.583 1544.91 L919.583 1548.85 L897.639 1548.85 L897.639 1544.91 Q900.301 1542.16 904.884 1537.53 Q909.491 1532.88 910.671 1531.53 Q912.917 1529.01 913.796 1527.27 Q914.699 1525.51 914.699 1523.82 Q914.699 1521.07 912.755 1519.33 Q910.833 1517.6 907.731 1517.6 Q905.532 1517.6 903.079 1518.36 Q900.648 1519.13 897.87 1520.68 L897.87 1515.95 Q900.694 1514.82 903.148 1514.24 Q905.602 1513.66 907.639 1513.66 Q913.009 1513.66 916.204 1516.35 Q919.398 1519.03 919.398 1523.52 Q919.398 1525.65 918.588 1527.57 Q917.801 1529.47 915.694 1532.07 Q915.116 1532.74 912.014 1535.95 Q908.912 1539.15 903.264 1544.91 Z\" fill=\"#000000\" fill-rule=\"evenodd\" fill-opacity=\"1\" /><path clip-path=\"url(#clip150)\" d=\"M1402.66 1518.36 L1390.85 1536.81 L1402.66 1536.81 L1402.66 1518.36 M1401.43 1514.29 L1407.31 1514.29 L1407.31 1536.81 L1412.24 1536.81 L1412.24 1540.7 L1407.31 1540.7 L1407.31 1548.85 L1402.66 1548.85 L1402.66 1540.7 L1387.05 1540.7 L1387.05 1536.19 L1401.43 1514.29 Z\" fill=\"#000000\" fill-rule=\"evenodd\" fill-opacity=\"1\" /><path clip-path=\"url(#clip150)\" d=\"M1891.09 1529.7 Q1887.94 1529.7 1886.09 1531.86 Q1884.26 1534.01 1884.26 1537.76 Q1884.26 1541.49 1886.09 1543.66 Q1887.94 1545.82 1891.09 1545.82 Q1894.24 1545.82 1896.06 1543.66 Q1897.92 1541.49 1897.92 1537.76 Q1897.92 1534.01 1896.06 1531.86 Q1894.24 1529.7 1891.09 1529.7 M1900.37 1515.05 L1900.37 1519.31 Q1898.61 1518.48 1896.8 1518.04 Q1895.02 1517.6 1893.26 1517.6 Q1888.63 1517.6 1886.18 1520.72 Q1883.75 1523.85 1883.4 1530.17 Q1884.77 1528.15 1886.83 1527.09 Q1888.89 1526 1891.36 1526 Q1896.57 1526 1899.58 1529.17 Q1902.61 1532.32 1902.61 1537.76 Q1902.61 1543.08 1899.47 1546.3 Q1896.32 1549.52 1891.09 1549.52 Q1885.09 1549.52 1881.92 1544.94 Q1878.75 1540.33 1878.75 1531.6 Q1878.75 1523.41 1882.64 1518.55 Q1886.53 1513.66 1893.08 1513.66 Q1894.84 1513.66 1896.62 1514.01 Q1898.42 1514.36 1900.37 1515.05 Z\" fill=\"#000000\" fill-rule=\"evenodd\" fill-opacity=\"1\" /><polyline clip-path=\"url(#clip152)\" style=\"stroke:#000000; stroke-linecap:butt; stroke-linejoin:round; stroke-width:2; stroke-opacity:0.1; fill:none\" points=\"\n",
       "  201.019,1445.72 2352.76,1445.72 \n",
       "  \"/>\n",
       "<polyline clip-path=\"url(#clip152)\" style=\"stroke:#000000; stroke-linecap:butt; stroke-linejoin:round; stroke-width:2; stroke-opacity:0.1; fill:none\" points=\"\n",
       "  201.019,1162.85 2352.76,1162.85 \n",
       "  \"/>\n",
       "<polyline clip-path=\"url(#clip152)\" style=\"stroke:#000000; stroke-linecap:butt; stroke-linejoin:round; stroke-width:2; stroke-opacity:0.1; fill:none\" points=\"\n",
       "  201.019,879.991 2352.76,879.991 \n",
       "  \"/>\n",
       "<polyline clip-path=\"url(#clip152)\" style=\"stroke:#000000; stroke-linecap:butt; stroke-linejoin:round; stroke-width:2; stroke-opacity:0.1; fill:none\" points=\"\n",
       "  201.019,597.129 2352.76,597.129 \n",
       "  \"/>\n",
       "<polyline clip-path=\"url(#clip152)\" style=\"stroke:#000000; stroke-linecap:butt; stroke-linejoin:round; stroke-width:2; stroke-opacity:0.1; fill:none\" points=\"\n",
       "  201.019,314.266 2352.76,314.266 \n",
       "  \"/>\n",
       "<polyline clip-path=\"url(#clip150)\" style=\"stroke:#000000; stroke-linecap:butt; stroke-linejoin:round; stroke-width:4; stroke-opacity:1; fill:none\" points=\"\n",
       "  201.019,1486.45 201.019,47.2441 \n",
       "  \"/>\n",
       "<polyline clip-path=\"url(#clip150)\" style=\"stroke:#000000; stroke-linecap:butt; stroke-linejoin:round; stroke-width:4; stroke-opacity:1; fill:none\" points=\"\n",
       "  201.019,1445.72 219.917,1445.72 \n",
       "  \"/>\n",
       "<polyline clip-path=\"url(#clip150)\" style=\"stroke:#000000; stroke-linecap:butt; stroke-linejoin:round; stroke-width:4; stroke-opacity:1; fill:none\" points=\"\n",
       "  201.019,1162.85 219.917,1162.85 \n",
       "  \"/>\n",
       "<polyline clip-path=\"url(#clip150)\" style=\"stroke:#000000; stroke-linecap:butt; stroke-linejoin:round; stroke-width:4; stroke-opacity:1; fill:none\" points=\"\n",
       "  201.019,879.991 219.917,879.991 \n",
       "  \"/>\n",
       "<polyline clip-path=\"url(#clip150)\" style=\"stroke:#000000; stroke-linecap:butt; stroke-linejoin:round; stroke-width:4; stroke-opacity:1; fill:none\" points=\"\n",
       "  201.019,597.129 219.917,597.129 \n",
       "  \"/>\n",
       "<polyline clip-path=\"url(#clip150)\" style=\"stroke:#000000; stroke-linecap:butt; stroke-linejoin:round; stroke-width:4; stroke-opacity:1; fill:none\" points=\"\n",
       "  201.019,314.266 219.917,314.266 \n",
       "  \"/>\n",
       "<path clip-path=\"url(#clip150)\" d=\"M153.075 1431.51 Q149.464 1431.51 147.635 1435.08 Q145.83 1438.62 145.83 1445.75 Q145.83 1452.86 147.635 1456.42 Q149.464 1459.96 153.075 1459.96 Q156.709 1459.96 158.515 1456.42 Q160.343 1452.86 160.343 1445.75 Q160.343 1438.62 158.515 1435.08 Q156.709 1431.51 153.075 1431.51 M153.075 1427.81 Q158.885 1427.81 161.941 1432.42 Q165.019 1437 165.019 1445.75 Q165.019 1454.48 161.941 1459.08 Q158.885 1463.67 153.075 1463.67 Q147.265 1463.67 144.186 1459.08 Q141.131 1454.48 141.131 1445.75 Q141.131 1437 144.186 1432.42 Q147.265 1427.81 153.075 1427.81 Z\" fill=\"#000000\" fill-rule=\"evenodd\" fill-opacity=\"1\" /><path clip-path=\"url(#clip150)\" d=\"M82.7975 1145.57 L101.154 1145.57 L101.154 1149.51 L87.0799 1149.51 L87.0799 1157.98 Q88.0984 1157.63 89.1169 1157.47 Q90.1354 1157.29 91.1539 1157.29 Q96.941 1157.29 100.321 1160.46 Q103.7 1163.63 103.7 1169.05 Q103.7 1174.62 100.228 1177.73 Q96.7558 1180.8 90.4364 1180.8 Q88.2604 1180.8 85.9919 1180.43 Q83.7466 1180.06 81.3392 1179.32 L81.3392 1174.62 Q83.4225 1175.76 85.6447 1176.31 Q87.8669 1176.87 90.3438 1176.87 Q94.3484 1176.87 96.6863 1174.76 Q99.0243 1172.66 99.0243 1169.05 Q99.0243 1165.43 96.6863 1163.33 Q94.3484 1161.22 90.3438 1161.22 Q88.4688 1161.22 86.5938 1161.64 Q84.7419 1162.05 82.7975 1162.93 L82.7975 1145.57 Z\" fill=\"#000000\" fill-rule=\"evenodd\" fill-opacity=\"1\" /><path clip-path=\"url(#clip150)\" d=\"M122.913 1148.65 Q119.302 1148.65 117.473 1152.22 Q115.668 1155.76 115.668 1162.89 Q115.668 1169.99 117.473 1173.56 Q119.302 1177.1 122.913 1177.1 Q126.547 1177.1 128.353 1173.56 Q130.182 1169.99 130.182 1162.89 Q130.182 1155.76 128.353 1152.22 Q126.547 1148.65 122.913 1148.65 M122.913 1144.95 Q128.723 1144.95 131.779 1149.55 Q134.857 1154.14 134.857 1162.89 Q134.857 1171.61 131.779 1176.22 Q128.723 1180.8 122.913 1180.8 Q117.103 1180.8 114.024 1176.22 Q110.969 1171.61 110.969 1162.89 Q110.969 1154.14 114.024 1149.55 Q117.103 1144.95 122.913 1144.95 Z\" fill=\"#000000\" fill-rule=\"evenodd\" fill-opacity=\"1\" /><path clip-path=\"url(#clip150)\" d=\"M153.075 1148.65 Q149.464 1148.65 147.635 1152.22 Q145.83 1155.76 145.83 1162.89 Q145.83 1169.99 147.635 1173.56 Q149.464 1177.1 153.075 1177.1 Q156.709 1177.1 158.515 1173.56 Q160.343 1169.99 160.343 1162.89 Q160.343 1155.76 158.515 1152.22 Q156.709 1148.65 153.075 1148.65 M153.075 1144.95 Q158.885 1144.95 161.941 1149.55 Q165.019 1154.14 165.019 1162.89 Q165.019 1171.61 161.941 1176.22 Q158.885 1180.8 153.075 1180.8 Q147.265 1180.8 144.186 1176.22 Q141.131 1171.61 141.131 1162.89 Q141.131 1154.14 144.186 1149.55 Q147.265 1144.95 153.075 1144.95 Z\" fill=\"#000000\" fill-rule=\"evenodd\" fill-opacity=\"1\" /><path clip-path=\"url(#clip150)\" d=\"M53.3995 893.336 L61.0384 893.336 L61.0384 866.97 L52.7282 868.637 L52.7282 864.378 L60.9921 862.711 L65.668 862.711 L65.668 893.336 L73.3068 893.336 L73.3068 897.271 L53.3995 897.271 L53.3995 893.336 Z\" fill=\"#000000\" fill-rule=\"evenodd\" fill-opacity=\"1\" /><path clip-path=\"url(#clip150)\" d=\"M92.7512 865.79 Q89.1401 865.79 87.3114 869.354 Q85.5058 872.896 85.5058 880.026 Q85.5058 887.132 87.3114 890.697 Q89.1401 894.239 92.7512 894.239 Q96.3854 894.239 98.1909 890.697 Q100.02 887.132 100.02 880.026 Q100.02 872.896 98.1909 869.354 Q96.3854 865.79 92.7512 865.79 M92.7512 862.086 Q98.5613 862.086 101.617 866.692 Q104.696 871.276 104.696 880.026 Q104.696 888.752 101.617 893.359 Q98.5613 897.942 92.7512 897.942 Q86.941 897.942 83.8623 893.359 Q80.8068 888.752 80.8068 880.026 Q80.8068 871.276 83.8623 866.692 Q86.941 862.086 92.7512 862.086 Z\" fill=\"#000000\" fill-rule=\"evenodd\" fill-opacity=\"1\" /><path clip-path=\"url(#clip150)\" d=\"M122.913 865.79 Q119.302 865.79 117.473 869.354 Q115.668 872.896 115.668 880.026 Q115.668 887.132 117.473 890.697 Q119.302 894.239 122.913 894.239 Q126.547 894.239 128.353 890.697 Q130.182 887.132 130.182 880.026 Q130.182 872.896 128.353 869.354 Q126.547 865.79 122.913 865.79 M122.913 862.086 Q128.723 862.086 131.779 866.692 Q134.857 871.276 134.857 880.026 Q134.857 888.752 131.779 893.359 Q128.723 897.942 122.913 897.942 Q117.103 897.942 114.024 893.359 Q110.969 888.752 110.969 880.026 Q110.969 871.276 114.024 866.692 Q117.103 862.086 122.913 862.086 Z\" fill=\"#000000\" fill-rule=\"evenodd\" fill-opacity=\"1\" /><path clip-path=\"url(#clip150)\" d=\"M153.075 865.79 Q149.464 865.79 147.635 869.354 Q145.83 872.896 145.83 880.026 Q145.83 887.132 147.635 890.697 Q149.464 894.239 153.075 894.239 Q156.709 894.239 158.515 890.697 Q160.343 887.132 160.343 880.026 Q160.343 872.896 158.515 869.354 Q156.709 865.79 153.075 865.79 M153.075 862.086 Q158.885 862.086 161.941 866.692 Q165.019 871.276 165.019 880.026 Q165.019 888.752 161.941 893.359 Q158.885 897.942 153.075 897.942 Q147.265 897.942 144.186 893.359 Q141.131 888.752 141.131 880.026 Q141.131 871.276 144.186 866.692 Q147.265 862.086 153.075 862.086 Z\" fill=\"#000000\" fill-rule=\"evenodd\" fill-opacity=\"1\" /><path clip-path=\"url(#clip150)\" d=\"M53.3995 610.473 L61.0384 610.473 L61.0384 584.108 L52.7282 585.774 L52.7282 581.515 L60.9921 579.849 L65.668 579.849 L65.668 610.473 L73.3068 610.473 L73.3068 614.409 L53.3995 614.409 L53.3995 610.473 Z\" fill=\"#000000\" fill-rule=\"evenodd\" fill-opacity=\"1\" /><path clip-path=\"url(#clip150)\" d=\"M82.7975 579.849 L101.154 579.849 L101.154 583.784 L87.0799 583.784 L87.0799 592.256 Q88.0984 591.909 89.1169 591.747 Q90.1354 591.561 91.1539 591.561 Q96.941 591.561 100.321 594.733 Q103.7 597.904 103.7 603.321 Q103.7 608.899 100.228 612.001 Q96.7558 615.08 90.4364 615.08 Q88.2604 615.08 85.9919 614.709 Q83.7466 614.339 81.3392 613.598 L81.3392 608.899 Q83.4225 610.034 85.6447 610.589 Q87.8669 611.145 90.3438 611.145 Q94.3484 611.145 96.6863 609.038 Q99.0243 606.932 99.0243 603.321 Q99.0243 599.71 96.6863 597.603 Q94.3484 595.497 90.3438 595.497 Q88.4688 595.497 86.5938 595.913 Q84.7419 596.33 82.7975 597.21 L82.7975 579.849 Z\" fill=\"#000000\" fill-rule=\"evenodd\" fill-opacity=\"1\" /><path clip-path=\"url(#clip150)\" d=\"M122.913 582.927 Q119.302 582.927 117.473 586.492 Q115.668 590.034 115.668 597.163 Q115.668 604.27 117.473 607.835 Q119.302 611.376 122.913 611.376 Q126.547 611.376 128.353 607.835 Q130.182 604.27 130.182 597.163 Q130.182 590.034 128.353 586.492 Q126.547 582.927 122.913 582.927 M122.913 579.224 Q128.723 579.224 131.779 583.83 Q134.857 588.413 134.857 597.163 Q134.857 605.89 131.779 610.497 Q128.723 615.08 122.913 615.08 Q117.103 615.08 114.024 610.497 Q110.969 605.89 110.969 597.163 Q110.969 588.413 114.024 583.83 Q117.103 579.224 122.913 579.224 Z\" fill=\"#000000\" fill-rule=\"evenodd\" fill-opacity=\"1\" /><path clip-path=\"url(#clip150)\" d=\"M153.075 582.927 Q149.464 582.927 147.635 586.492 Q145.83 590.034 145.83 597.163 Q145.83 604.27 147.635 607.835 Q149.464 611.376 153.075 611.376 Q156.709 611.376 158.515 607.835 Q160.343 604.27 160.343 597.163 Q160.343 590.034 158.515 586.492 Q156.709 582.927 153.075 582.927 M153.075 579.224 Q158.885 579.224 161.941 583.83 Q165.019 588.413 165.019 597.163 Q165.019 605.89 161.941 610.497 Q158.885 615.08 153.075 615.08 Q147.265 615.08 144.186 610.497 Q141.131 605.89 141.131 597.163 Q141.131 588.413 144.186 583.83 Q147.265 579.224 153.075 579.224 Z\" fill=\"#000000\" fill-rule=\"evenodd\" fill-opacity=\"1\" /><path clip-path=\"url(#clip150)\" d=\"M56.6171 327.611 L72.9365 327.611 L72.9365 331.546 L50.9921 331.546 L50.9921 327.611 Q53.6541 324.856 58.2375 320.227 Q62.8439 315.574 64.0245 314.231 Q66.2698 311.708 67.1494 309.972 Q68.0522 308.213 68.0522 306.523 Q68.0522 303.769 66.1078 302.032 Q64.1865 300.296 61.0847 300.296 Q58.8856 300.296 56.4319 301.06 Q54.0014 301.824 51.2236 303.375 L51.2236 298.653 Q54.0477 297.519 56.5014 296.94 Q58.955 296.361 60.9921 296.361 Q66.3624 296.361 69.5568 299.046 Q72.7513 301.732 72.7513 306.222 Q72.7513 308.352 71.9411 310.273 Q71.1541 312.171 69.0476 314.764 Q68.4689 315.435 65.367 318.653 Q62.2652 321.847 56.6171 327.611 Z\" fill=\"#000000\" fill-rule=\"evenodd\" fill-opacity=\"1\" /><path clip-path=\"url(#clip150)\" d=\"M92.7512 300.065 Q89.1401 300.065 87.3114 303.63 Q85.5058 307.171 85.5058 314.301 Q85.5058 321.407 87.3114 324.972 Q89.1401 328.514 92.7512 328.514 Q96.3854 328.514 98.1909 324.972 Q100.02 321.407 100.02 314.301 Q100.02 307.171 98.1909 303.63 Q96.3854 300.065 92.7512 300.065 M92.7512 296.361 Q98.5613 296.361 101.617 300.968 Q104.696 305.551 104.696 314.301 Q104.696 323.028 101.617 327.634 Q98.5613 332.217 92.7512 332.217 Q86.941 332.217 83.8623 327.634 Q80.8068 323.028 80.8068 314.301 Q80.8068 305.551 83.8623 300.968 Q86.941 296.361 92.7512 296.361 Z\" fill=\"#000000\" fill-rule=\"evenodd\" fill-opacity=\"1\" /><path clip-path=\"url(#clip150)\" d=\"M122.913 300.065 Q119.302 300.065 117.473 303.63 Q115.668 307.171 115.668 314.301 Q115.668 321.407 117.473 324.972 Q119.302 328.514 122.913 328.514 Q126.547 328.514 128.353 324.972 Q130.182 321.407 130.182 314.301 Q130.182 307.171 128.353 303.63 Q126.547 300.065 122.913 300.065 M122.913 296.361 Q128.723 296.361 131.779 300.968 Q134.857 305.551 134.857 314.301 Q134.857 323.028 131.779 327.634 Q128.723 332.217 122.913 332.217 Q117.103 332.217 114.024 327.634 Q110.969 323.028 110.969 314.301 Q110.969 305.551 114.024 300.968 Q117.103 296.361 122.913 296.361 Z\" fill=\"#000000\" fill-rule=\"evenodd\" fill-opacity=\"1\" /><path clip-path=\"url(#clip150)\" d=\"M153.075 300.065 Q149.464 300.065 147.635 303.63 Q145.83 307.171 145.83 314.301 Q145.83 321.407 147.635 324.972 Q149.464 328.514 153.075 328.514 Q156.709 328.514 158.515 324.972 Q160.343 321.407 160.343 314.301 Q160.343 307.171 158.515 303.63 Q156.709 300.065 153.075 300.065 M153.075 296.361 Q158.885 296.361 161.941 300.968 Q165.019 305.551 165.019 314.301 Q165.019 323.028 161.941 327.634 Q158.885 332.217 153.075 332.217 Q147.265 332.217 144.186 327.634 Q141.131 323.028 141.131 314.301 Q141.131 305.551 144.186 300.968 Q147.265 296.361 153.075 296.361 Z\" fill=\"#000000\" fill-rule=\"evenodd\" fill-opacity=\"1\" /><path clip-path=\"url(#clip152)\" d=\"\n",
       "M1546.96 586.946 L1546.96 1445.72 L1743.37 1445.72 L1743.37 586.946 L1546.96 586.946 L1546.96 586.946  Z\n",
       "  \" fill=\"#009af9\" fill-rule=\"evenodd\" fill-opacity=\"1\"/>\n",
       "<polyline clip-path=\"url(#clip152)\" style=\"stroke:#000000; stroke-linecap:butt; stroke-linejoin:round; stroke-width:4; stroke-opacity:1; fill:none\" points=\"\n",
       "  1546.96,586.946 1546.96,1445.72 1743.37,1445.72 1743.37,586.946 1546.96,586.946 \n",
       "  \"/>\n",
       "<path clip-path=\"url(#clip152)\" d=\"\n",
       "M1301.44 726.114 L1301.44 1445.72 L1497.85 1445.72 L1497.85 726.114 L1301.44 726.114 L1301.44 726.114  Z\n",
       "  \" fill=\"#009af9\" fill-rule=\"evenodd\" fill-opacity=\"1\"/>\n",
       "<polyline clip-path=\"url(#clip152)\" style=\"stroke:#000000; stroke-linecap:butt; stroke-linejoin:round; stroke-width:4; stroke-opacity:1; fill:none\" points=\"\n",
       "  1301.44,726.114 1301.44,1445.72 1497.85,1445.72 1497.85,726.114 1301.44,726.114 \n",
       "  \"/>\n",
       "<path clip-path=\"url(#clip152)\" d=\"\n",
       "M1792.47 508.875 L1792.47 1445.72 L1988.89 1445.72 L1988.89 508.875 L1792.47 508.875 L1792.47 508.875  Z\n",
       "  \" fill=\"#009af9\" fill-rule=\"evenodd\" fill-opacity=\"1\"/>\n",
       "<polyline clip-path=\"url(#clip152)\" style=\"stroke:#000000; stroke-linecap:butt; stroke-linejoin:round; stroke-width:4; stroke-opacity:1; fill:none\" points=\"\n",
       "  1792.47,508.875 1792.47,1445.72 1988.89,1445.72 1988.89,508.875 1792.47,508.875 \n",
       "  \"/>\n",
       "<path clip-path=\"url(#clip152)\" d=\"\n",
       "M2037.99 210.173 L2037.99 1445.72 L2234.41 1445.72 L2234.41 210.173 L2037.99 210.173 L2037.99 210.173  Z\n",
       "  \" fill=\"#009af9\" fill-rule=\"evenodd\" fill-opacity=\"1\"/>\n",
       "<polyline clip-path=\"url(#clip152)\" style=\"stroke:#000000; stroke-linecap:butt; stroke-linejoin:round; stroke-width:4; stroke-opacity:1; fill:none\" points=\"\n",
       "  2037.99,210.173 2037.99,1445.72 2234.41,1445.72 2234.41,210.173 2037.99,210.173 \n",
       "  \"/>\n",
       "<path clip-path=\"url(#clip152)\" d=\"\n",
       "M810.404 1119.86 L810.404 1445.72 L1006.82 1445.72 L1006.82 1119.86 L810.404 1119.86 L810.404 1119.86  Z\n",
       "  \" fill=\"#009af9\" fill-rule=\"evenodd\" fill-opacity=\"1\"/>\n",
       "<polyline clip-path=\"url(#clip152)\" style=\"stroke:#000000; stroke-linecap:butt; stroke-linejoin:round; stroke-width:4; stroke-opacity:1; fill:none\" points=\"\n",
       "  810.404,1119.86 810.404,1445.72 1006.82,1445.72 1006.82,1119.86 810.404,1119.86 \n",
       "  \"/>\n",
       "<path clip-path=\"url(#clip152)\" d=\"\n",
       "M319.369 1445.15 L319.369 1445.72 L515.783 1445.72 L515.783 1445.15 L319.369 1445.15 L319.369 1445.15  Z\n",
       "  \" fill=\"#009af9\" fill-rule=\"evenodd\" fill-opacity=\"1\"/>\n",
       "<polyline clip-path=\"url(#clip152)\" style=\"stroke:#000000; stroke-linecap:butt; stroke-linejoin:round; stroke-width:4; stroke-opacity:1; fill:none\" points=\"\n",
       "  319.369,1445.15 319.369,1445.72 515.783,1445.72 515.783,1445.15 319.369,1445.15 \n",
       "  \"/>\n",
       "<path clip-path=\"url(#clip152)\" d=\"\n",
       "M1055.92 87.9763 L1055.92 1445.72 L1252.34 1445.72 L1252.34 87.9763 L1055.92 87.9763 L1055.92 87.9763  Z\n",
       "  \" fill=\"#009af9\" fill-rule=\"evenodd\" fill-opacity=\"1\"/>\n",
       "<polyline clip-path=\"url(#clip152)\" style=\"stroke:#000000; stroke-linecap:butt; stroke-linejoin:round; stroke-width:4; stroke-opacity:1; fill:none\" points=\"\n",
       "  1055.92,87.9763 1055.92,1445.72 1252.34,1445.72 1252.34,87.9763 1055.92,87.9763 \n",
       "  \"/>\n",
       "<path clip-path=\"url(#clip152)\" d=\"\n",
       "M564.886 1229.04 L564.886 1445.72 L761.3 1445.72 L761.3 1229.04 L564.886 1229.04 L564.886 1229.04  Z\n",
       "  \" fill=\"#009af9\" fill-rule=\"evenodd\" fill-opacity=\"1\"/>\n",
       "<polyline clip-path=\"url(#clip152)\" style=\"stroke:#000000; stroke-linecap:butt; stroke-linejoin:round; stroke-width:4; stroke-opacity:1; fill:none\" points=\"\n",
       "  564.886,1229.04 564.886,1445.72 761.3,1445.72 761.3,1229.04 564.886,1229.04 \n",
       "  \"/>\n",
       "<circle clip-path=\"url(#clip152)\" style=\"fill:#009af9; stroke:none; fill-opacity:0\" cx=\"1645.16\" cy=\"586.946\" r=\"2\"/>\n",
       "<circle clip-path=\"url(#clip152)\" style=\"fill:#009af9; stroke:none; fill-opacity:0\" cx=\"1399.65\" cy=\"726.114\" r=\"2\"/>\n",
       "<circle clip-path=\"url(#clip152)\" style=\"fill:#009af9; stroke:none; fill-opacity:0\" cx=\"1890.68\" cy=\"508.875\" r=\"2\"/>\n",
       "<circle clip-path=\"url(#clip152)\" style=\"fill:#009af9; stroke:none; fill-opacity:0\" cx=\"2136.2\" cy=\"210.173\" r=\"2\"/>\n",
       "<circle clip-path=\"url(#clip152)\" style=\"fill:#009af9; stroke:none; fill-opacity:0\" cx=\"908.611\" cy=\"1119.86\" r=\"2\"/>\n",
       "<circle clip-path=\"url(#clip152)\" style=\"fill:#009af9; stroke:none; fill-opacity:0\" cx=\"417.576\" cy=\"1445.15\" r=\"2\"/>\n",
       "<circle clip-path=\"url(#clip152)\" style=\"fill:#009af9; stroke:none; fill-opacity:0\" cx=\"1154.13\" cy=\"87.9763\" r=\"2\"/>\n",
       "<circle clip-path=\"url(#clip152)\" style=\"fill:#009af9; stroke:none; fill-opacity:0\" cx=\"663.093\" cy=\"1229.04\" r=\"2\"/>\n",
       "</svg>\n"
      ]
     },
     "metadata": {},
     "output_type": "display_data"
    }
   ],
   "source": [
    "# Plots number of steps\n",
    "step_counts = Dict(counter(kap_count))\n",
    "delete!(step_counts, -1)\n",
    "bar(step_counts, label=false)"
   ]
  },
  {
   "cell_type": "code",
   "execution_count": 21,
   "metadata": {},
   "outputs": [
    {
     "data": {
      "text/plain": [
       "OrderedDict{Int64, Int64} with 8 entries:\n",
       "  0 => 1\n",
       "  1 => 383\n",
       "  2 => 576\n",
       "  3 => 2400\n",
       "  4 => 1272\n",
       "  5 => 1518\n",
       "  6 => 1656\n",
       "  7 => 2184"
      ]
     },
     "metadata": {},
     "output_type": "display_data"
    }
   ],
   "source": [
    "# Show data\n",
    "sort(step_counts)"
   ]
  },
  {
   "cell_type": "code",
   "execution_count": 22,
   "metadata": {},
   "outputs": [
    {
     "data": {
      "text/plain": [
       "1-element Vector{Int64}:\n",
       " 6174"
      ]
     },
     "metadata": {},
     "output_type": "display_data"
    }
   ],
   "source": [
    "# The 0 steps to converge is for the kaprekar constant itself\n",
    "findall(x -> x == 0, kap_count)"
   ]
  }
 ],
 "metadata": {
  "kernelspec": {
   "display_name": "Julia 1.7.2",
   "language": "julia",
   "name": "julia-1.7"
  },
  "language_info": {
   "file_extension": ".jl",
   "mimetype": "application/julia",
   "name": "julia",
   "version": "1.7.2"
  },
  "orig_nbformat": 4
 },
 "nbformat": 4,
 "nbformat_minor": 2
}
