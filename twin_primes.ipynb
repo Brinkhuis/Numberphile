{
 "cells": [
  {
   "cell_type": "markdown",
   "metadata": {},
   "source": [
    "# Twin Primes\n",
    "\n",
    "https://www.youtube.com/watch?v=n4gmYjyI3vo"
   ]
  },
  {
   "cell_type": "code",
   "execution_count": 1,
   "metadata": {},
   "outputs": [],
   "source": [
    "using DataStructures\n",
    "using Plots"
   ]
  },
  {
   "cell_type": "code",
   "execution_count": 2,
   "metadata": {},
   "outputs": [
    {
     "data": {
      "text/plain": [
       "digital_root (generic function with 2 methods)"
      ]
     },
     "metadata": {},
     "output_type": "display_data"
    }
   ],
   "source": [
    "function digital_root(twins::Tuple{Int64, Int64}, print_steps=false)::Tuple{Int64, Int64}\n",
    "    \"\"\"\n",
    "    Returns the digital root of a tuple of twin primes\n",
    "    Set print_steps to true to print the calculation steps to screen\n",
    "    \"\"\"\n",
    "    product = Int128(twins[1]) * Int128(twins[2])\n",
    "    number_of_digits = -1 # initiate variable\n",
    "    digitalroot = product\n",
    "    steps = 0\n",
    "    if print_steps\n",
    "        println(\"Twin Primes : $twins\")\n",
    "        println(\"Product     : $product\")\n",
    "    end\n",
    "    while number_of_digits != 1\n",
    "        steps += 1\n",
    "        digitalroot = sum([parse(Int128, digit) for digit in string(digitalroot)])\n",
    "        if print_steps\n",
    "            println(\"Step $steps      : $digitalroot\")\n",
    "        end\n",
    "        number_of_digits = length(string(digitalroot))\n",
    "    end\n",
    "    return digitalroot, steps\n",
    "end"
   ]
  },
  {
   "cell_type": "code",
   "execution_count": 3,
   "metadata": {},
   "outputs": [
    {
     "name": "stdout",
     "output_type": "stream",
     "text": [
      "Twin Primes : (17, 19)\n",
      "Product     : 323\n",
      "Step 1      : 8\n"
     ]
    }
   ],
   "source": [
    "# Demo\n",
    "digital_root((17, 19), true);"
   ]
  },
  {
   "cell_type": "code",
   "execution_count": 4,
   "metadata": {},
   "outputs": [
    {
     "name": "stdout",
     "output_type": "stream",
     "text": [
      "Twin Primes : (101, 103)\n",
      "Product     : 10403\n",
      "Step 1      : 8\n"
     ]
    }
   ],
   "source": [
    "# Demo\n",
    "digital_root((101, 103), true);"
   ]
  },
  {
   "cell_type": "code",
   "execution_count": 5,
   "metadata": {},
   "outputs": [
    {
     "name": "stdout",
     "output_type": "stream",
     "text": [
      "Twin Primes : (881, 883)\n",
      "Product     : 777923\n",
      "Step 1      : 35\n",
      "Step 2      : 8\n"
     ]
    }
   ],
   "source": [
    "# Demo\n",
    "digital_root((881, 883), true);"
   ]
  },
  {
   "cell_type": "code",
   "execution_count": 6,
   "metadata": {},
   "outputs": [
    {
     "data": {
      "text/plain": [
       "(8, 2)"
      ]
     },
     "metadata": {},
     "output_type": "display_data"
    }
   ],
   "source": [
    "# Demo\n",
    "digital_root((881, 883))"
   ]
  },
  {
   "cell_type": "code",
   "execution_count": 7,
   "metadata": {},
   "outputs": [
    {
     "data": {
      "text/plain": [
       "Primes (generic function with 1 method)"
      ]
     },
     "metadata": {},
     "output_type": "display_data"
    }
   ],
   "source": [
    "function Primes(n::Int64)::Vector{Int64}\n",
    "    \"\"\"\n",
    "    Generates a vector of all primes in the range 1 to n (included)\n",
    "    \"\"\"\n",
    "    A = BitArray(trues(n)) # array with results\n",
    "    A[1] = false # 1 is not a prime\n",
    "    candidate = 2\n",
    "    while candidate <= sqrt(n)\n",
    "        for i in candidate:(n ÷ candidate)\n",
    "            A[i * candidate] = false\n",
    "        end\n",
    "        candidate += 1\n",
    "        while candidate <= n && A[candidate] == false\n",
    "            candidate += 1\n",
    "        end\n",
    "    end\n",
    "    findall(x -> x != false, A)\n",
    "end"
   ]
  },
  {
   "cell_type": "code",
   "execution_count": 8,
   "metadata": {},
   "outputs": [],
   "source": [
    "# Setup maximum number to find primes in range 1 to n (included)\n",
    "n = 10^9;"
   ]
  },
  {
   "cell_type": "code",
   "execution_count": 9,
   "metadata": {},
   "outputs": [
    {
     "data": {
      "text/plain": [
       "50847532-element Vector{Int64}:\n",
       "         5\n",
       "         7\n",
       "        11\n",
       "        13\n",
       "        17\n",
       "        19\n",
       "        23\n",
       "        29\n",
       "        31\n",
       "        37\n",
       "         ⋮\n",
       " 999999739\n",
       " 999999751\n",
       " 999999757\n",
       " 999999761\n",
       " 999999797\n",
       " 999999883\n",
       " 999999893\n",
       " 999999929\n",
       " 999999937"
      ]
     },
     "metadata": {},
     "output_type": "display_data"
    }
   ],
   "source": [
    "# Generate primes\n",
    "primes = Primes(n)[3:end] # leave out corner cases 2 and 3"
   ]
  },
  {
   "cell_type": "code",
   "execution_count": 10,
   "metadata": {},
   "outputs": [
    {
     "data": {
      "text/plain": [
       "twins (generic function with 1 method)"
      ]
     },
     "metadata": {},
     "output_type": "display_data"
    }
   ],
   "source": [
    "function twins(primes::Vector{Int64})::Vector{Tuple{Int64, Int64}}\n",
    "    \"\"\"\n",
    "    Returns a vector of twin prime paires bases of an input vector of primes\n",
    "    \"\"\"\n",
    "    twin_primes = Vector{Tuple{Int64, Int64}}()\n",
    "    for i in 1:(length(primes)-1)\n",
    "        if primes[i+1] - primes[i] == 2\n",
    "            push!(twin_primes, (primes[i], primes[i+1]))\n",
    "        end\n",
    "    end\n",
    "    return twin_primes\n",
    "end"
   ]
  },
  {
   "cell_type": "code",
   "execution_count": 11,
   "metadata": {},
   "outputs": [
    {
     "data": {
      "text/plain": [
       "3424505-element Vector{Tuple{Int64, Int64}}:\n",
       " (5, 7)\n",
       " (11, 13)\n",
       " (17, 19)\n",
       " (29, 31)\n",
       " (41, 43)\n",
       " (59, 61)\n",
       " (71, 73)\n",
       " (101, 103)\n",
       " (107, 109)\n",
       " (137, 139)\n",
       " ⋮\n",
       " (999996071, 999996073)\n",
       " (999996707, 999996709)\n",
       " (999997769, 999997771)\n",
       " (999998141, 999998143)\n",
       " (999998507, 999998509)\n",
       " (999998639, 999998641)\n",
       " (999998687, 999998689)\n",
       " (999998957, 999998959)\n",
       " (999999191, 999999193)"
      ]
     },
     "metadata": {},
     "output_type": "display_data"
    }
   ],
   "source": [
    "# Twin Primes\n",
    "tp = twins(primes)\n",
    "primes = nothing # 'delete' primes to free up memory\n",
    "GC.gc() # run garbage collector\n",
    "tp"
   ]
  },
  {
   "cell_type": "code",
   "execution_count": 12,
   "metadata": {},
   "outputs": [
    {
     "data": {
      "text/plain": [
       "3424505-element Vector{Tuple{Int64, Int64}}:\n",
       " (8, 1)\n",
       " (8, 1)\n",
       " (8, 1)\n",
       " (8, 2)\n",
       " (8, 2)\n",
       " (8, 2)\n",
       " (8, 2)\n",
       " (8, 1)\n",
       " (8, 2)\n",
       " (8, 2)\n",
       " ⋮\n",
       " (8, 3)\n",
       " (8, 3)\n",
       " (8, 2)\n",
       " (8, 3)\n",
       " (8, 2)\n",
       " (8, 2)\n",
       " (8, 3)\n",
       " (8, 3)\n",
       " (8, 3)"
      ]
     },
     "metadata": {},
     "output_type": "display_data"
    }
   ],
   "source": [
    "# Digital Root and Number of Steps for all Twin Primes\n",
    "drtp = digital_root.(tp)"
   ]
  },
  {
   "cell_type": "code",
   "execution_count": 13,
   "metadata": {},
   "outputs": [
    {
     "data": {
      "text/plain": [
       "0"
      ]
     },
     "metadata": {},
     "output_type": "display_data"
    }
   ],
   "source": [
    "# Number of cases where the digital root of twin primes is not equal to 8\n",
    "validate = BitArray(falses(length(drtp)))\n",
    "for i in 1:length(drtp)\n",
    "    if drtp[i][1] != 8\n",
    "        validate[i] = true\n",
    "    end\n",
    "end\n",
    "sum(validate)"
   ]
  },
  {
   "cell_type": "code",
   "execution_count": 14,
   "metadata": {},
   "outputs": [
    {
     "data": {
      "text/plain": [
       "Accumulator{Int64, Int64} with 3 entries:\n",
       "  2 => 2362149\n",
       "  3 => 1062351\n",
       "  1 => 5"
      ]
     },
     "metadata": {},
     "output_type": "display_data"
    }
   ],
   "source": [
    "# Step counts\n",
    "counts = counter([i[2] for i in drtp])"
   ]
  },
  {
   "cell_type": "code",
   "execution_count": 15,
   "metadata": {},
   "outputs": [
    {
     "data": {
      "image/png": "[encoded data removed]",
      "image/svg+xml": "<?xml version=\"1.0\" encoding=\"utf-8\"?>\n<svg xmlns=\"http://www.w3.org/2000/svg\" xmlns:xlink=\"http://www.w3.org/1999/xlink\" width=\"600\" height=\"400\" viewBox=\"0 0 2400 1600\">\n<defs>\n  <clipPath id=\"clip380\">\n    <rect x=\"0\" y=\"0\" width=\"2400\" height=\"1600\"/>\n  </clipPath>\n</defs>\n<path clip-path=\"url(#clip380)\" d=\"\nM0 1600 L2400 1600 L2400 0 L0 0  Z\n  \" fill=\"#ffffff\" fill-rule=\"evenodd\" fill-opacity=\"1\"/>\n<defs>\n  <clipPath id=\"clip381\">\n    <rect x=\"480\" y=\"0\" width=\"1681\" height=\"1600\"/>\n  </clipPath>\n</defs>\n<path clip-path=\"url(#clip380)\" d=\"\nM305.363 1486.45 L2352.76 1486.45 L2352.76 47.2441 L305.363 47.2441  Z\n  \" fill=\"#ffffff\" fill-rule=\"evenodd\" fill-opacity=\"1\"/>\n<defs>\n  <clipPath id=\"clip382\">\n    <rect x=\"305\" y=\"47\" width=\"2048\" height=\"1440\"/>\n  </clipPath>\n</defs>\n<polyline clip-path=\"url(#clip382)\" style=\"stroke:#000000; stroke-linecap:butt; stroke-linejoin:round; stroke-width:2; stroke-opacity:0.1; fill:none\" points=\"\n  352.896,1486.45 352.896,47.2441 \n  \"/>\n<polyline clip-path=\"url(#clip382)\" style=\"stroke:#000000; stroke-linecap:butt; stroke-linejoin:round; stroke-width:2; stroke-opacity:0.1; fill:none\" points=\"\n  678.284,1486.45 678.284,47.2441 \n  \"/>\n<polyline clip-path=\"url(#clip382)\" style=\"stroke:#000000; stroke-linecap:butt; stroke-linejoin:round; stroke-width:2; stroke-opacity:0.1; fill:none\" points=\"\n  1003.67,1486.45 1003.67,47.2441 \n  \"/>\n<polyline clip-path=\"url(#clip382)\" style=\"stroke:#000000; stroke-linecap:butt; stroke-linejoin:round; stroke-width:2; stroke-opacity:0.1; fill:none\" points=\"\n  1329.06,1486.45 1329.06,47.2441 \n  \"/>\n<polyline clip-path=\"url(#clip382)\" style=\"stroke:#000000; stroke-linecap:butt; stroke-linejoin:round; stroke-width:2; stroke-opacity:0.1; fill:none\" points=\"\n  1654.45,1486.45 1654.45,47.2441 \n  \"/>\n<polyline clip-path=\"url(#clip382)\" style=\"stroke:#000000; stroke-linecap:butt; stroke-linejoin:round; stroke-width:2; stroke-opacity:0.1; fill:none\" points=\"\n  1979.84,1486.45 1979.84,47.2441 \n  \"/>\n<polyline clip-path=\"url(#clip382)\" style=\"stroke:#000000; stroke-linecap:butt; stroke-linejoin:round; stroke-width:2; stroke-opacity:0.1; fill:none\" points=\"\n  2305.22,1486.45 2305.22,47.2441 \n  \"/>\n<polyline clip-path=\"url(#clip380)\" style=\"stroke:#000000; stroke-linecap:butt; stroke-linejoin:round; stroke-width:4; stroke-opacity:1; fill:none\" points=\"\n  305.363,1486.45 2352.76,1486.45 \n  \"/>\n<polyline clip-path=\"url(#clip380)\" style=\"stroke:#000000; stroke-linecap:butt; stroke-linejoin:round; stroke-width:4; stroke-opacity:1; fill:none\" points=\"\n  352.896,1486.45 352.896,1467.55 \n  \"/>\n<polyline clip-path=\"url(#clip380)\" style=\"stroke:#000000; stroke-linecap:butt; stroke-linejoin:round; stroke-width:4; stroke-opacity:1; fill:none\" points=\"\n  678.284,1486.45 678.284,1467.55 \n  \"/>\n<polyline clip-path=\"url(#clip380)\" style=\"stroke:#000000; stroke-linecap:butt; stroke-linejoin:round; stroke-width:4; stroke-opacity:1; fill:none\" points=\"\n  1003.67,1486.45 1003.67,1467.55 \n  \"/>\n<polyline clip-path=\"url(#clip380)\" style=\"stroke:#000000; stroke-linecap:butt; stroke-linejoin:round; stroke-width:4; stroke-opacity:1; fill:none\" points=\"\n  1329.06,1486.45 1329.06,1467.55 \n  \"/>\n<polyline clip-path=\"url(#clip380)\" style=\"stroke:#000000; stroke-linecap:butt; stroke-linejoin:round; stroke-width:4; stroke-opacity:1; fill:none\" points=\"\n  1654.45,1486.45 1654.45,1467.55 \n  \"/>\n<polyline clip-path=\"url(#clip380)\" style=\"stroke:#000000; stroke-linecap:butt; stroke-linejoin:round; stroke-width:4; stroke-opacity:1; fill:none\" points=\"\n  1979.84,1486.45 1979.84,1467.55 \n  \"/>\n<polyline clip-path=\"url(#clip380)\" style=\"stroke:#000000; stroke-linecap:butt; stroke-linejoin:round; stroke-width:4; stroke-opacity:1; fill:none\" points=\"\n  2305.22,1486.45 2305.22,1467.55 \n  \"/>\n<path clip-path=\"url(#clip380)\" d=\"M330.778 1517.37 Q327.167 1517.37 325.338 1520.93 Q323.533 1524.47 323.533 1531.6 Q323.533 1538.71 325.338 1542.27 Q327.167 1545.82 330.778 1545.82 Q334.412 1545.82 336.218 1542.27 Q338.047 1538.71 338.047 1531.6 Q338.047 1524.47 336.218 1520.93 Q334.412 1517.37 330.778 1517.37 M330.778 1513.66 Q336.588 1513.66 339.644 1518.27 Q342.722 1522.85 342.722 1531.6 Q342.722 1540.33 339.644 1544.94 Q336.588 1549.52 330.778 1549.52 Q324.968 1549.52 321.889 1544.94 Q318.834 1540.33 318.834 1531.6 Q318.834 1522.85 321.889 1518.27 Q324.968 1513.66 330.778 1513.66 Z\" fill=\"#000000\" fill-rule=\"evenodd\" fill-opacity=\"1\" /><path clip-path=\"url(#clip380)\" d=\"M350.94 1542.97 L355.824 1542.97 L355.824 1548.85 L350.94 1548.85 L350.94 1542.97 Z\" fill=\"#000000\" fill-rule=\"evenodd\" fill-opacity=\"1\" /><path clip-path=\"url(#clip380)\" d=\"M366.056 1514.29 L384.412 1514.29 L384.412 1518.22 L370.338 1518.22 L370.338 1526.7 Q371.357 1526.35 372.375 1526.19 Q373.394 1526 374.412 1526 Q380.199 1526 383.579 1529.17 Q386.958 1532.34 386.958 1537.76 Q386.958 1543.34 383.486 1546.44 Q380.014 1549.52 373.695 1549.52 Q371.519 1549.52 369.25 1549.15 Q367.005 1548.78 364.597 1548.04 L364.597 1543.34 Q366.681 1544.47 368.903 1545.03 Q371.125 1545.58 373.602 1545.58 Q377.607 1545.58 379.944 1543.48 Q382.282 1541.37 382.282 1537.76 Q382.282 1534.15 379.944 1532.04 Q377.607 1529.94 373.602 1529.94 Q371.727 1529.94 369.852 1530.35 Q368 1530.77 366.056 1531.65 L366.056 1514.29 Z\" fill=\"#000000\" fill-rule=\"evenodd\" fill-opacity=\"1\" /><path clip-path=\"url(#clip380)\" d=\"M645.437 1544.91 L653.076 1544.91 L653.076 1518.55 L644.766 1520.21 L644.766 1515.95 L653.029 1514.29 L657.705 1514.29 L657.705 1544.91 L665.344 1544.91 L665.344 1548.85 L645.437 1548.85 L645.437 1544.91 Z\" fill=\"#000000\" fill-rule=\"evenodd\" fill-opacity=\"1\" /><path clip-path=\"url(#clip380)\" d=\"M674.789 1542.97 L679.673 1542.97 L679.673 1548.85 L674.789 1548.85 L674.789 1542.97 Z\" fill=\"#000000\" fill-rule=\"evenodd\" fill-opacity=\"1\" /><path clip-path=\"url(#clip380)\" d=\"M699.858 1517.37 Q696.247 1517.37 694.418 1520.93 Q692.613 1524.47 692.613 1531.6 Q692.613 1538.71 694.418 1542.27 Q696.247 1545.82 699.858 1545.82 Q703.492 1545.82 705.298 1542.27 Q707.126 1538.71 707.126 1531.6 Q707.126 1524.47 705.298 1520.93 Q703.492 1517.37 699.858 1517.37 M699.858 1513.66 Q705.668 1513.66 708.724 1518.27 Q711.802 1522.85 711.802 1531.6 Q711.802 1540.33 708.724 1544.94 Q705.668 1549.52 699.858 1549.52 Q694.048 1549.52 690.969 1544.94 Q687.913 1540.33 687.913 1531.6 Q687.913 1522.85 690.969 1518.27 Q694.048 1513.66 699.858 1513.66 Z\" fill=\"#000000\" fill-rule=\"evenodd\" fill-opacity=\"1\" /><path clip-path=\"url(#clip380)\" d=\"M971.322 1544.91 L978.961 1544.91 L978.961 1518.55 L970.651 1520.21 L970.651 1515.95 L978.915 1514.29 L983.591 1514.29 L983.591 1544.91 L991.23 1544.91 L991.23 1548.85 L971.322 1548.85 L971.322 1544.91 Z\" fill=\"#000000\" fill-rule=\"evenodd\" fill-opacity=\"1\" /><path clip-path=\"url(#clip380)\" d=\"M1000.67 1542.97 L1005.56 1542.97 L1005.56 1548.85 L1000.67 1548.85 L1000.67 1542.97 Z\" fill=\"#000000\" fill-rule=\"evenodd\" fill-opacity=\"1\" /><path clip-path=\"url(#clip380)\" d=\"M1015.79 1514.29 L1034.15 1514.29 L1034.15 1518.22 L1020.07 1518.22 L1020.07 1526.7 Q1021.09 1526.35 1022.11 1526.19 Q1023.13 1526 1024.15 1526 Q1029.93 1526 1033.31 1529.17 Q1036.69 1532.34 1036.69 1537.76 Q1036.69 1543.34 1033.22 1546.44 Q1029.75 1549.52 1023.43 1549.52 Q1021.25 1549.52 1018.98 1549.15 Q1016.74 1548.78 1014.33 1548.04 L1014.33 1543.34 Q1016.41 1544.47 1018.64 1545.03 Q1020.86 1545.58 1023.34 1545.58 Q1027.34 1545.58 1029.68 1543.48 Q1032.02 1541.37 1032.02 1537.76 Q1032.02 1534.15 1029.68 1532.04 Q1027.34 1529.94 1023.34 1529.94 Q1021.46 1529.94 1019.59 1530.35 Q1017.73 1530.77 1015.79 1531.65 L1015.79 1514.29 Z\" fill=\"#000000\" fill-rule=\"evenodd\" fill-opacity=\"1\" /><path clip-path=\"url(#clip380)\" d=\"M1300.3 1544.91 L1316.62 1544.91 L1316.62 1548.85 L1294.67 1548.85 L1294.67 1544.91 Q1297.34 1542.16 1301.92 1537.53 Q1306.53 1532.88 1307.71 1531.53 Q1309.95 1529.01 1310.83 1527.27 Q1311.73 1525.51 1311.73 1523.82 Q1311.73 1521.07 1309.79 1519.33 Q1307.87 1517.6 1304.77 1517.6 Q1302.57 1517.6 1300.11 1518.36 Q1297.68 1519.13 1294.9 1520.68 L1294.9 1515.95 Q1297.73 1514.82 1300.18 1514.24 Q1302.64 1513.66 1304.67 1513.66 Q1310.04 1513.66 1313.24 1516.35 Q1316.43 1519.03 1316.43 1523.52 Q1316.43 1525.65 1315.62 1527.57 Q1314.84 1529.47 1312.73 1532.07 Q1312.15 1532.74 1309.05 1535.95 Q1305.95 1539.15 1300.3 1544.91 Z\" fill=\"#000000\" fill-rule=\"evenodd\" fill-opacity=\"1\" /><path clip-path=\"url(#clip380)\" d=\"M1326.43 1542.97 L1331.32 1542.97 L1331.32 1548.85 L1326.43 1548.85 L1326.43 1542.97 Z\" fill=\"#000000\" fill-rule=\"evenodd\" fill-opacity=\"1\" /><path clip-path=\"url(#clip380)\" d=\"M1351.5 1517.37 Q1347.89 1517.37 1346.06 1520.93 Q1344.26 1524.47 1344.26 1531.6 Q1344.26 1538.71 1346.06 1542.27 Q1347.89 1545.82 1351.5 1545.82 Q1355.14 1545.82 1356.94 1542.27 Q1358.77 1538.71 1358.77 1531.6 Q1358.77 1524.47 1356.94 1520.93 Q1355.14 1517.37 1351.5 1517.37 M1351.5 1513.66 Q1357.31 1513.66 1360.37 1518.27 Q1363.45 1522.85 1363.45 1531.6 Q1363.45 1540.33 1360.37 1544.94 Q1357.31 1549.52 1351.5 1549.52 Q1345.69 1549.52 1342.61 1544.94 Q1339.56 1540.33 1339.56 1531.6 Q1339.56 1522.85 1342.61 1518.27 Q1345.69 1513.66 1351.5 1513.66 Z\" fill=\"#000000\" fill-rule=\"evenodd\" fill-opacity=\"1\" /><path clip-path=\"url(#clip380)\" d=\"M1626.18 1544.91 L1642.5 1544.91 L1642.5 1548.85 L1620.56 1548.85 L1620.56 1544.91 Q1623.22 1542.16 1627.8 1537.53 Q1632.41 1532.88 1633.59 1531.53 Q1635.84 1529.01 1636.72 1527.27 Q1637.62 1525.51 1637.62 1523.82 Q1637.62 1521.07 1635.67 1519.33 Q1633.75 1517.6 1630.65 1517.6 Q1628.45 1517.6 1626 1518.36 Q1623.57 1519.13 1620.79 1520.68 L1620.79 1515.95 Q1623.61 1514.82 1626.07 1514.24 Q1628.52 1513.66 1630.56 1513.66 Q1635.93 1513.66 1639.12 1516.35 Q1642.32 1519.03 1642.32 1523.52 Q1642.32 1525.65 1641.51 1527.57 Q1640.72 1529.47 1638.61 1532.07 Q1638.04 1532.74 1634.93 1535.95 Q1631.83 1539.15 1626.18 1544.91 Z\" fill=\"#000000\" fill-rule=\"evenodd\" fill-opacity=\"1\" /><path clip-path=\"url(#clip380)\" d=\"M1652.32 1542.97 L1657.2 1542.97 L1657.2 1548.85 L1652.32 1548.85 L1652.32 1542.97 Z\" fill=\"#000000\" fill-rule=\"evenodd\" fill-opacity=\"1\" /><path clip-path=\"url(#clip380)\" d=\"M1667.43 1514.29 L1685.79 1514.29 L1685.79 1518.22 L1671.72 1518.22 L1671.72 1526.7 Q1672.73 1526.35 1673.75 1526.19 Q1674.77 1526 1675.79 1526 Q1681.58 1526 1684.96 1529.17 Q1688.34 1532.34 1688.34 1537.76 Q1688.34 1543.34 1684.86 1546.44 Q1681.39 1549.52 1675.07 1549.52 Q1672.9 1549.52 1670.63 1549.15 Q1668.38 1548.78 1665.98 1548.04 L1665.98 1543.34 Q1668.06 1544.47 1670.28 1545.03 Q1672.5 1545.58 1674.98 1545.58 Q1678.98 1545.58 1681.32 1543.48 Q1683.66 1541.37 1683.66 1537.76 Q1683.66 1534.15 1681.32 1532.04 Q1678.98 1529.94 1674.98 1529.94 Q1673.1 1529.94 1671.23 1530.35 Q1669.38 1530.77 1667.43 1531.65 L1667.43 1514.29 Z\" fill=\"#000000\" fill-rule=\"evenodd\" fill-opacity=\"1\" /><path clip-path=\"url(#clip380)\" d=\"M1961.14 1530.21 Q1964.5 1530.93 1966.37 1533.2 Q1968.27 1535.47 1968.27 1538.8 Q1968.27 1543.92 1964.75 1546.72 Q1961.24 1549.52 1954.75 1549.52 Q1952.58 1549.52 1950.26 1549.08 Q1947.97 1548.66 1945.52 1547.81 L1945.52 1543.29 Q1947.46 1544.43 1949.78 1545.01 Q1952.09 1545.58 1954.62 1545.58 Q1959.01 1545.58 1961.31 1543.85 Q1963.62 1542.11 1963.62 1538.8 Q1963.62 1535.75 1961.47 1534.03 Q1959.34 1532.3 1955.52 1532.3 L1951.49 1532.3 L1951.49 1528.45 L1955.7 1528.45 Q1959.15 1528.45 1960.98 1527.09 Q1962.81 1525.7 1962.81 1523.11 Q1962.81 1520.45 1960.91 1519.03 Q1959.04 1517.6 1955.52 1517.6 Q1953.6 1517.6 1951.4 1518.01 Q1949.2 1518.43 1946.56 1519.31 L1946.56 1515.14 Q1949.22 1514.4 1951.54 1514.03 Q1953.87 1513.66 1955.94 1513.66 Q1961.26 1513.66 1964.36 1516.09 Q1967.46 1518.5 1967.46 1522.62 Q1967.46 1525.49 1965.82 1527.48 Q1964.18 1529.45 1961.14 1530.21 Z\" fill=\"#000000\" fill-rule=\"evenodd\" fill-opacity=\"1\" /><path clip-path=\"url(#clip380)\" d=\"M1977.14 1542.97 L1982.02 1542.97 L1982.02 1548.85 L1977.14 1548.85 L1977.14 1542.97 Z\" fill=\"#000000\" fill-rule=\"evenodd\" fill-opacity=\"1\" /><path clip-path=\"url(#clip380)\" d=\"M2002.21 1517.37 Q1998.6 1517.37 1996.77 1520.93 Q1994.96 1524.47 1994.96 1531.6 Q1994.96 1538.71 1996.77 1542.27 Q1998.6 1545.82 2002.21 1545.82 Q2005.84 1545.82 2007.65 1542.27 Q2009.48 1538.71 2009.48 1531.6 Q2009.48 1524.47 2007.65 1520.93 Q2005.84 1517.37 2002.21 1517.37 M2002.21 1513.66 Q2008.02 1513.66 2011.07 1518.27 Q2014.15 1522.85 2014.15 1531.6 Q2014.15 1540.33 2011.07 1544.94 Q2008.02 1549.52 2002.21 1549.52 Q1996.4 1549.52 1993.32 1544.94 Q1990.26 1540.33 1990.26 1531.6 Q1990.26 1522.85 1993.32 1518.27 Q1996.4 1513.66 2002.21 1513.66 Z\" fill=\"#000000\" fill-rule=\"evenodd\" fill-opacity=\"1\" /><path clip-path=\"url(#clip380)\" d=\"M2287.03 1530.21 Q2290.39 1530.93 2292.26 1533.2 Q2294.16 1535.47 2294.16 1538.8 Q2294.16 1543.92 2290.64 1546.72 Q2287.12 1549.52 2280.64 1549.52 Q2278.46 1549.52 2276.15 1549.08 Q2273.86 1548.66 2271.4 1547.81 L2271.4 1543.29 Q2273.35 1544.43 2275.66 1545.01 Q2277.98 1545.58 2280.5 1545.58 Q2284.9 1545.58 2287.19 1543.85 Q2289.51 1542.11 2289.51 1538.8 Q2289.51 1535.75 2287.35 1534.03 Q2285.22 1532.3 2281.4 1532.3 L2277.38 1532.3 L2277.38 1528.45 L2281.59 1528.45 Q2285.04 1528.45 2286.87 1527.09 Q2288.7 1525.7 2288.7 1523.11 Q2288.7 1520.45 2286.8 1519.03 Q2284.92 1517.6 2281.4 1517.6 Q2279.48 1517.6 2277.28 1518.01 Q2275.08 1518.43 2272.45 1519.31 L2272.45 1515.14 Q2275.11 1514.4 2277.42 1514.03 Q2279.76 1513.66 2281.82 1513.66 Q2287.14 1513.66 2290.25 1516.09 Q2293.35 1518.5 2293.35 1522.62 Q2293.35 1525.49 2291.7 1527.48 Q2290.06 1529.45 2287.03 1530.21 Z\" fill=\"#000000\" fill-rule=\"evenodd\" fill-opacity=\"1\" /><path clip-path=\"url(#clip380)\" d=\"M2303.02 1542.97 L2307.91 1542.97 L2307.91 1548.85 L2303.02 1548.85 L2303.02 1542.97 Z\" fill=\"#000000\" fill-rule=\"evenodd\" fill-opacity=\"1\" /><path clip-path=\"url(#clip380)\" d=\"M2318.14 1514.29 L2336.5 1514.29 L2336.5 1518.22 L2322.42 1518.22 L2322.42 1526.7 Q2323.44 1526.35 2324.46 1526.19 Q2325.48 1526 2326.5 1526 Q2332.28 1526 2335.66 1529.17 Q2339.04 1532.34 2339.04 1537.76 Q2339.04 1543.34 2335.57 1546.44 Q2332.1 1549.52 2325.78 1549.52 Q2323.6 1549.52 2321.33 1549.15 Q2319.09 1548.78 2316.68 1548.04 L2316.68 1543.34 Q2318.76 1544.47 2320.99 1545.03 Q2323.21 1545.58 2325.69 1545.58 Q2329.69 1545.58 2332.03 1543.48 Q2334.37 1541.37 2334.37 1537.76 Q2334.37 1534.15 2332.03 1532.04 Q2329.69 1529.94 2325.69 1529.94 Q2323.81 1529.94 2321.94 1530.35 Q2320.08 1530.77 2318.14 1531.65 L2318.14 1514.29 Z\" fill=\"#000000\" fill-rule=\"evenodd\" fill-opacity=\"1\" /><polyline clip-path=\"url(#clip382)\" style=\"stroke:#000000; stroke-linecap:butt; stroke-linejoin:round; stroke-width:2; stroke-opacity:0.1; fill:none\" points=\"\n  305.363,1445.72 2352.76,1445.72 \n  \"/>\n<polyline clip-path=\"url(#clip382)\" style=\"stroke:#000000; stroke-linecap:butt; stroke-linejoin:round; stroke-width:2; stroke-opacity:0.1; fill:none\" points=\"\n  305.363,1158.32 2352.76,1158.32 \n  \"/>\n<polyline clip-path=\"url(#clip382)\" style=\"stroke:#000000; stroke-linecap:butt; stroke-linejoin:round; stroke-width:2; stroke-opacity:0.1; fill:none\" points=\"\n  305.363,870.926 2352.76,870.926 \n  \"/>\n<polyline clip-path=\"url(#clip382)\" style=\"stroke:#000000; stroke-linecap:butt; stroke-linejoin:round; stroke-width:2; stroke-opacity:0.1; fill:none\" points=\"\n  305.363,583.531 2352.76,583.531 \n  \"/>\n<polyline clip-path=\"url(#clip382)\" style=\"stroke:#000000; stroke-linecap:butt; stroke-linejoin:round; stroke-width:2; stroke-opacity:0.1; fill:none\" points=\"\n  305.363,296.136 2352.76,296.136 \n  \"/>\n<polyline clip-path=\"url(#clip380)\" style=\"stroke:#000000; stroke-linecap:butt; stroke-linejoin:round; stroke-width:4; stroke-opacity:1; fill:none\" points=\"\n  305.363,1486.45 305.363,47.2441 \n  \"/>\n<polyline clip-path=\"url(#clip380)\" style=\"stroke:#000000; stroke-linecap:butt; stroke-linejoin:round; stroke-width:4; stroke-opacity:1; fill:none\" points=\"\n  305.363,1445.72 324.261,1445.72 \n  \"/>\n<polyline clip-path=\"url(#clip380)\" style=\"stroke:#000000; stroke-linecap:butt; stroke-linejoin:round; stroke-width:4; stroke-opacity:1; fill:none\" points=\"\n  305.363,1158.32 324.261,1158.32 \n  \"/>\n<polyline clip-path=\"url(#clip380)\" style=\"stroke:#000000; stroke-linecap:butt; stroke-linejoin:round; stroke-width:4; stroke-opacity:1; fill:none\" points=\"\n  305.363,870.926 324.261,870.926 \n  \"/>\n<polyline clip-path=\"url(#clip380)\" style=\"stroke:#000000; stroke-linecap:butt; stroke-linejoin:round; stroke-width:4; stroke-opacity:1; fill:none\" points=\"\n  305.363,583.531 324.261,583.531 \n  \"/>\n<polyline clip-path=\"url(#clip380)\" style=\"stroke:#000000; stroke-linecap:butt; stroke-linejoin:round; stroke-width:4; stroke-opacity:1; fill:none\" points=\"\n  305.363,296.136 324.261,296.136 \n  \"/>\n<path clip-path=\"url(#clip380)\" d=\"M257.419 1431.51 Q253.808 1431.51 251.979 1435.08 Q250.174 1438.62 250.174 1445.75 Q250.174 1452.86 251.979 1456.42 Q253.808 1459.96 257.419 1459.96 Q261.053 1459.96 262.859 1456.42 Q264.687 1452.86 264.687 1445.75 Q264.687 1438.62 262.859 1435.08 Q261.053 1431.51 257.419 1431.51 M257.419 1427.81 Q263.229 1427.81 266.285 1432.42 Q269.363 1437 269.363 1445.75 Q269.363 1454.48 266.285 1459.08 Q263.229 1463.67 257.419 1463.67 Q251.609 1463.67 248.53 1459.08 Q245.475 1454.48 245.475 1445.75 Q245.475 1437 248.53 1432.42 Q251.609 1427.81 257.419 1427.81 Z\" fill=\"#000000\" fill-rule=\"evenodd\" fill-opacity=\"1\" /><path clip-path=\"url(#clip380)\" d=\"M53.8581 1147.49 L72.2145 1147.49 L72.2145 1151.42 L58.1405 1151.42 L58.1405 1159.9 Q59.159 1159.55 60.1776 1159.39 Q61.1961 1159.2 62.2146 1159.2 Q68.0016 1159.2 71.3812 1162.37 Q74.7608 1165.54 74.7608 1170.96 Q74.7608 1176.54 71.2886 1179.64 Q67.8164 1182.72 61.497 1182.72 Q59.3211 1182.72 57.0526 1182.35 Q54.8072 1181.98 52.3998 1181.24 L52.3998 1176.54 Q54.4831 1177.67 56.7053 1178.23 Q58.9276 1178.78 61.4044 1178.78 Q65.409 1178.78 67.747 1176.68 Q70.0849 1174.57 70.0849 1170.96 Q70.0849 1167.35 67.747 1165.24 Q65.409 1163.14 61.4044 1163.14 Q59.5294 1163.14 57.6544 1163.55 Q55.8026 1163.97 53.8581 1164.85 L53.8581 1147.49 Z\" fill=\"#000000\" fill-rule=\"evenodd\" fill-opacity=\"1\" /><path clip-path=\"url(#clip380)\" d=\"M83.9737 1176.17 L88.858 1176.17 L88.858 1182.05 L83.9737 1182.05 L83.9737 1176.17 Z\" fill=\"#000000\" fill-rule=\"evenodd\" fill-opacity=\"1\" /><path clip-path=\"url(#clip380)\" d=\"M109.043 1150.57 Q105.432 1150.57 103.603 1154.13 Q101.798 1157.67 101.798 1164.8 Q101.798 1171.91 103.603 1175.47 Q105.432 1179.02 109.043 1179.02 Q112.677 1179.02 114.483 1175.47 Q116.312 1171.91 116.312 1164.8 Q116.312 1157.67 114.483 1154.13 Q112.677 1150.57 109.043 1150.57 M109.043 1146.86 Q114.853 1146.86 117.909 1151.47 Q120.987 1156.05 120.987 1164.8 Q120.987 1173.53 117.909 1178.14 Q114.853 1182.72 109.043 1182.72 Q103.233 1182.72 100.154 1178.14 Q97.0986 1173.53 97.0986 1164.8 Q97.0986 1156.05 100.154 1151.47 Q103.233 1146.86 109.043 1146.86 Z\" fill=\"#000000\" fill-rule=\"evenodd\" fill-opacity=\"1\" /><path clip-path=\"url(#clip380)\" d=\"M139.205 1150.57 Q135.594 1150.57 133.765 1154.13 Q131.96 1157.67 131.96 1164.8 Q131.96 1171.91 133.765 1175.47 Q135.594 1179.02 139.205 1179.02 Q142.839 1179.02 144.645 1175.47 Q146.473 1171.91 146.473 1164.8 Q146.473 1157.67 144.645 1154.13 Q142.839 1150.57 139.205 1150.57 M139.205 1146.86 Q145.015 1146.86 148.071 1151.47 Q151.149 1156.05 151.149 1164.8 Q151.149 1173.53 148.071 1178.14 Q145.015 1182.72 139.205 1182.72 Q133.395 1182.72 130.316 1178.14 Q127.261 1173.53 127.261 1164.8 Q127.261 1156.05 130.316 1151.47 Q133.395 1146.86 139.205 1146.86 Z\" fill=\"#000000\" fill-rule=\"evenodd\" fill-opacity=\"1\" /><path clip-path=\"url(#clip380)\" d=\"M187.538 1156.59 L176.959 1167.21 L187.538 1177.79 L184.783 1180.59 L174.158 1169.97 L163.533 1180.59 L160.802 1177.79 L171.358 1167.21 L160.802 1156.59 L163.533 1153.78 L174.158 1164.41 L184.783 1153.78 L187.538 1156.59 Z\" fill=\"#000000\" fill-rule=\"evenodd\" fill-opacity=\"1\" /><path clip-path=\"url(#clip380)\" d=\"M199.899 1178.11 L207.538 1178.11 L207.538 1151.75 L199.228 1153.41 L199.228 1149.15 L207.492 1147.49 L212.167 1147.49 L212.167 1178.11 L219.806 1178.11 L219.806 1182.05 L199.899 1182.05 L199.899 1178.11 Z\" fill=\"#000000\" fill-rule=\"evenodd\" fill-opacity=\"1\" /><path clip-path=\"url(#clip380)\" d=\"M239.251 1150.57 Q235.64 1150.57 233.811 1154.13 Q232.005 1157.67 232.005 1164.8 Q232.005 1171.91 233.811 1175.47 Q235.64 1179.02 239.251 1179.02 Q242.885 1179.02 244.69 1175.47 Q246.519 1171.91 246.519 1164.8 Q246.519 1157.67 244.69 1154.13 Q242.885 1150.57 239.251 1150.57 M239.251 1146.86 Q245.061 1146.86 248.116 1151.47 Q251.195 1156.05 251.195 1164.8 Q251.195 1173.53 248.116 1178.14 Q245.061 1182.72 239.251 1182.72 Q233.441 1182.72 230.362 1178.14 Q227.306 1173.53 227.306 1164.8 Q227.306 1156.05 230.362 1151.47 Q233.441 1146.86 239.251 1146.86 Z\" fill=\"#000000\" fill-rule=\"evenodd\" fill-opacity=\"1\" /><path clip-path=\"url(#clip380)\" d=\"M252.38 1126.56 L267.294 1126.56 L267.294 1129.76 L255.859 1129.76 L255.859 1136.64 Q256.687 1136.36 257.514 1136.23 Q258.342 1136.07 259.17 1136.07 Q263.871 1136.07 266.617 1138.65 Q269.363 1141.23 269.363 1145.63 Q269.363 1150.16 266.542 1152.68 Q263.721 1155.18 258.586 1155.18 Q256.819 1155.18 254.975 1154.88 Q253.151 1154.58 251.195 1153.98 L251.195 1150.16 Q252.888 1151.08 254.693 1151.53 Q256.499 1151.99 258.511 1151.99 Q261.765 1151.99 263.665 1150.27 Q265.564 1148.56 265.564 1145.63 Q265.564 1142.7 263.665 1140.98 Q261.765 1139.27 258.511 1139.27 Q256.988 1139.27 255.464 1139.61 Q253.96 1139.95 252.38 1140.66 L252.38 1126.56 Z\" fill=\"#000000\" fill-rule=\"evenodd\" fill-opacity=\"1\" /><path clip-path=\"url(#clip380)\" d=\"M53.3995 890.718 L61.0384 890.718 L61.0384 864.353 L52.7282 866.019 L52.7282 861.76 L60.9921 860.093 L65.668 860.093 L65.668 890.718 L73.3068 890.718 L73.3068 894.653 L53.3995 894.653 L53.3995 890.718 Z\" fill=\"#000000\" fill-rule=\"evenodd\" fill-opacity=\"1\" /><path clip-path=\"url(#clip380)\" d=\"M82.7512 888.774 L87.6354 888.774 L87.6354 894.653 L82.7512 894.653 L82.7512 888.774 Z\" fill=\"#000000\" fill-rule=\"evenodd\" fill-opacity=\"1\" /><path clip-path=\"url(#clip380)\" d=\"M107.821 863.172 Q104.209 863.172 102.381 866.737 Q100.575 870.279 100.575 877.408 Q100.575 884.515 102.381 888.079 Q104.209 891.621 107.821 891.621 Q111.455 891.621 113.26 888.079 Q115.089 884.515 115.089 877.408 Q115.089 870.279 113.26 866.737 Q111.455 863.172 107.821 863.172 M107.821 859.468 Q113.631 859.468 116.686 864.075 Q119.765 868.658 119.765 877.408 Q119.765 886.135 116.686 890.741 Q113.631 895.325 107.821 895.325 Q102.01 895.325 98.9317 890.741 Q95.8761 886.135 95.8761 877.408 Q95.8761 868.658 98.9317 864.075 Q102.01 859.468 107.821 859.468 Z\" fill=\"#000000\" fill-rule=\"evenodd\" fill-opacity=\"1\" /><path clip-path=\"url(#clip380)\" d=\"M137.982 863.172 Q134.371 863.172 132.543 866.737 Q130.737 870.279 130.737 877.408 Q130.737 884.515 132.543 888.079 Q134.371 891.621 137.982 891.621 Q141.617 891.621 143.422 888.079 Q145.251 884.515 145.251 877.408 Q145.251 870.279 143.422 866.737 Q141.617 863.172 137.982 863.172 M137.982 859.468 Q143.793 859.468 146.848 864.075 Q149.927 868.658 149.927 877.408 Q149.927 886.135 146.848 890.741 Q143.793 895.325 137.982 895.325 Q132.172 895.325 129.094 890.741 Q126.038 886.135 126.038 877.408 Q126.038 868.658 129.094 864.075 Q132.172 859.468 137.982 859.468 Z\" fill=\"#000000\" fill-rule=\"evenodd\" fill-opacity=\"1\" /><path clip-path=\"url(#clip380)\" d=\"M186.315 869.191 L175.737 879.815 L186.315 890.394 L183.561 893.195 L172.936 882.57 L162.311 893.195 L159.58 890.394 L170.135 879.815 L159.58 869.191 L162.311 866.39 L172.936 877.015 L183.561 866.39 L186.315 869.191 Z\" fill=\"#000000\" fill-rule=\"evenodd\" fill-opacity=\"1\" /><path clip-path=\"url(#clip380)\" d=\"M198.677 890.718 L206.315 890.718 L206.315 864.353 L198.005 866.019 L198.005 861.76 L206.269 860.093 L210.945 860.093 L210.945 890.718 L218.584 890.718 L218.584 894.653 L198.677 894.653 L198.677 890.718 Z\" fill=\"#000000\" fill-rule=\"evenodd\" fill-opacity=\"1\" /><path clip-path=\"url(#clip380)\" d=\"M238.028 863.172 Q234.417 863.172 232.588 866.737 Q230.783 870.279 230.783 877.408 Q230.783 884.515 232.588 888.079 Q234.417 891.621 238.028 891.621 Q241.662 891.621 243.468 888.079 Q245.297 884.515 245.297 877.408 Q245.297 870.279 243.468 866.737 Q241.662 863.172 238.028 863.172 M238.028 859.468 Q243.838 859.468 246.894 864.075 Q249.973 868.658 249.973 877.408 Q249.973 886.135 246.894 890.741 Q243.838 895.325 238.028 895.325 Q232.218 895.325 229.139 890.741 Q226.084 886.135 226.084 877.408 Q226.084 868.658 229.139 864.075 Q232.218 859.468 238.028 859.468 Z\" fill=\"#000000\" fill-rule=\"evenodd\" fill-opacity=\"1\" /><path clip-path=\"url(#clip380)\" d=\"M259.997 851.689 Q257.439 851.689 255.935 853.438 Q254.449 855.187 254.449 858.234 Q254.449 861.262 255.935 863.03 Q257.439 864.779 259.997 864.779 Q262.555 864.779 264.041 863.03 Q265.545 861.262 265.545 858.234 Q265.545 855.187 264.041 853.438 Q262.555 851.689 259.997 851.689 M267.539 839.784 L267.539 843.244 Q266.11 842.567 264.643 842.21 Q263.194 841.852 261.765 841.852 Q258.003 841.852 256.01 844.392 Q254.035 846.931 253.753 852.065 Q254.863 850.429 256.536 849.564 Q258.21 848.68 260.223 848.68 Q264.455 848.68 266.9 851.256 Q269.363 853.814 269.363 858.234 Q269.363 862.56 266.805 865.174 Q264.248 867.788 259.997 867.788 Q255.126 867.788 252.549 864.064 Q249.973 860.322 249.973 853.231 Q249.973 846.573 253.132 842.624 Q256.292 838.655 261.615 838.655 Q263.044 838.655 264.492 838.937 Q265.959 839.219 267.539 839.784 Z\" fill=\"#000000\" fill-rule=\"evenodd\" fill-opacity=\"1\" /><path clip-path=\"url(#clip380)\" d=\"M53.3995 603.323 L61.0384 603.323 L61.0384 576.958 L52.7282 578.624 L52.7282 574.365 L60.9921 572.698 L65.668 572.698 L65.668 603.323 L73.3068 603.323 L73.3068 607.258 L53.3995 607.258 L53.3995 603.323 Z\" fill=\"#000000\" fill-rule=\"evenodd\" fill-opacity=\"1\" /><path clip-path=\"url(#clip380)\" d=\"M82.7512 601.379 L87.6354 601.379 L87.6354 607.258 L82.7512 607.258 L82.7512 601.379 Z\" fill=\"#000000\" fill-rule=\"evenodd\" fill-opacity=\"1\" /><path clip-path=\"url(#clip380)\" d=\"M97.8669 572.698 L116.223 572.698 L116.223 576.634 L102.149 576.634 L102.149 585.106 Q103.168 584.759 104.186 584.597 Q105.205 584.411 106.223 584.411 Q112.01 584.411 115.39 587.583 Q118.77 590.754 118.77 596.171 Q118.77 601.749 115.297 604.851 Q111.825 607.93 105.506 607.93 Q103.33 607.93 101.061 607.559 Q98.8159 607.189 96.4085 606.448 L96.4085 601.749 Q98.4919 602.883 100.714 603.439 Q102.936 603.995 105.413 603.995 Q109.418 603.995 111.756 601.888 Q114.094 599.782 114.094 596.171 Q114.094 592.559 111.756 590.453 Q109.418 588.346 105.413 588.346 Q103.538 588.346 101.663 588.763 Q99.8113 589.18 97.8669 590.059 L97.8669 572.698 Z\" fill=\"#000000\" fill-rule=\"evenodd\" fill-opacity=\"1\" /><path clip-path=\"url(#clip380)\" d=\"M137.982 575.777 Q134.371 575.777 132.543 579.342 Q130.737 582.884 130.737 590.013 Q130.737 597.12 132.543 600.684 Q134.371 604.226 137.982 604.226 Q141.617 604.226 143.422 600.684 Q145.251 597.12 145.251 590.013 Q145.251 582.884 143.422 579.342 Q141.617 575.777 137.982 575.777 M137.982 572.073 Q143.793 572.073 146.848 576.68 Q149.927 581.263 149.927 590.013 Q149.927 598.74 146.848 603.346 Q143.793 607.93 137.982 607.93 Q132.172 607.93 129.094 603.346 Q126.038 598.74 126.038 590.013 Q126.038 581.263 129.094 576.68 Q132.172 572.073 137.982 572.073 Z\" fill=\"#000000\" fill-rule=\"evenodd\" fill-opacity=\"1\" /><path clip-path=\"url(#clip380)\" d=\"M186.315 581.796 L175.737 592.421 L186.315 602.999 L183.561 605.8 L172.936 595.175 L162.311 605.8 L159.58 602.999 L170.135 592.421 L159.58 581.796 L162.311 578.995 L172.936 589.62 L183.561 578.995 L186.315 581.796 Z\" fill=\"#000000\" fill-rule=\"evenodd\" fill-opacity=\"1\" /><path clip-path=\"url(#clip380)\" d=\"M198.677 603.323 L206.315 603.323 L206.315 576.958 L198.005 578.624 L198.005 574.365 L206.269 572.698 L210.945 572.698 L210.945 603.323 L218.584 603.323 L218.584 607.258 L198.677 607.258 L198.677 603.323 Z\" fill=\"#000000\" fill-rule=\"evenodd\" fill-opacity=\"1\" /><path clip-path=\"url(#clip380)\" d=\"M238.028 575.777 Q234.417 575.777 232.588 579.342 Q230.783 582.884 230.783 590.013 Q230.783 597.12 232.588 600.684 Q234.417 604.226 238.028 604.226 Q241.662 604.226 243.468 600.684 Q245.297 597.12 245.297 590.013 Q245.297 582.884 243.468 579.342 Q241.662 575.777 238.028 575.777 M238.028 572.073 Q243.838 572.073 246.894 576.68 Q249.973 581.263 249.973 590.013 Q249.973 598.74 246.894 603.346 Q243.838 607.93 238.028 607.93 Q232.218 607.93 229.139 603.346 Q226.084 598.74 226.084 590.013 Q226.084 581.263 229.139 576.68 Q232.218 572.073 238.028 572.073 Z\" fill=\"#000000\" fill-rule=\"evenodd\" fill-opacity=\"1\" /><path clip-path=\"url(#clip380)\" d=\"M259.997 564.294 Q257.439 564.294 255.935 566.043 Q254.449 567.792 254.449 570.839 Q254.449 573.867 255.935 575.635 Q257.439 577.384 259.997 577.384 Q262.555 577.384 264.041 575.635 Q265.545 573.867 265.545 570.839 Q265.545 567.792 264.041 566.043 Q262.555 564.294 259.997 564.294 M267.539 552.389 L267.539 555.849 Q266.11 555.172 264.643 554.815 Q263.194 554.458 261.765 554.458 Q258.003 554.458 256.01 556.997 Q254.035 559.536 253.753 564.67 Q254.863 563.034 256.536 562.169 Q258.21 561.285 260.223 561.285 Q264.455 561.285 266.9 563.861 Q269.363 566.419 269.363 570.839 Q269.363 575.165 266.805 577.779 Q264.248 580.393 259.997 580.393 Q255.126 580.393 252.549 576.67 Q249.973 572.927 249.973 565.836 Q249.973 559.178 253.132 555.229 Q256.292 551.26 261.615 551.26 Q263.044 551.26 264.492 551.542 Q265.959 551.824 267.539 552.389 Z\" fill=\"#000000\" fill-rule=\"evenodd\" fill-opacity=\"1\" /><path clip-path=\"url(#clip380)\" d=\"M56.6171 315.928 L72.9365 315.928 L72.9365 319.863 L50.9921 319.863 L50.9921 315.928 Q53.6541 313.174 58.2375 308.544 Q62.8439 303.891 64.0245 302.549 Q66.2698 300.026 67.1494 298.29 Q68.0522 296.53 68.0522 294.84 Q68.0522 292.086 66.1078 290.35 Q64.1865 288.614 61.0847 288.614 Q58.8856 288.614 56.4319 289.378 Q54.0014 290.141 51.2236 291.692 L51.2236 286.97 Q54.0477 285.836 56.5014 285.257 Q58.955 284.678 60.9921 284.678 Q66.3624 284.678 69.5568 287.364 Q72.7513 290.049 72.7513 294.54 Q72.7513 296.669 71.9411 298.59 Q71.1541 300.489 69.0476 303.081 Q68.4689 303.752 65.367 306.97 Q62.2652 310.164 56.6171 315.928 Z\" fill=\"#000000\" fill-rule=\"evenodd\" fill-opacity=\"1\" /><path clip-path=\"url(#clip380)\" d=\"M82.7512 313.984 L87.6354 313.984 L87.6354 319.863 L82.7512 319.863 L82.7512 313.984 Z\" fill=\"#000000\" fill-rule=\"evenodd\" fill-opacity=\"1\" /><path clip-path=\"url(#clip380)\" d=\"M107.821 288.382 Q104.209 288.382 102.381 291.947 Q100.575 295.489 100.575 302.618 Q100.575 309.725 102.381 313.289 Q104.209 316.831 107.821 316.831 Q111.455 316.831 113.26 313.289 Q115.089 309.725 115.089 302.618 Q115.089 295.489 113.26 291.947 Q111.455 288.382 107.821 288.382 M107.821 284.678 Q113.631 284.678 116.686 289.285 Q119.765 293.868 119.765 302.618 Q119.765 311.345 116.686 315.951 Q113.631 320.535 107.821 320.535 Q102.01 320.535 98.9317 315.951 Q95.8761 311.345 95.8761 302.618 Q95.8761 293.868 98.9317 289.285 Q102.01 284.678 107.821 284.678 Z\" fill=\"#000000\" fill-rule=\"evenodd\" fill-opacity=\"1\" /><path clip-path=\"url(#clip380)\" d=\"M137.982 288.382 Q134.371 288.382 132.543 291.947 Q130.737 295.489 130.737 302.618 Q130.737 309.725 132.543 313.289 Q134.371 316.831 137.982 316.831 Q141.617 316.831 143.422 313.289 Q145.251 309.725 145.251 302.618 Q145.251 295.489 143.422 291.947 Q141.617 288.382 137.982 288.382 M137.982 284.678 Q143.793 284.678 146.848 289.285 Q149.927 293.868 149.927 302.618 Q149.927 311.345 146.848 315.951 Q143.793 320.535 137.982 320.535 Q132.172 320.535 129.094 315.951 Q126.038 311.345 126.038 302.618 Q126.038 293.868 129.094 289.285 Q132.172 284.678 137.982 284.678 Z\" fill=\"#000000\" fill-rule=\"evenodd\" fill-opacity=\"1\" /><path clip-path=\"url(#clip380)\" d=\"M186.315 294.401 L175.737 305.026 L186.315 315.604 L183.561 318.405 L172.936 307.78 L162.311 318.405 L159.58 315.604 L170.135 305.026 L159.58 294.401 L162.311 291.6 L172.936 302.225 L183.561 291.6 L186.315 294.401 Z\" fill=\"#000000\" fill-rule=\"evenodd\" fill-opacity=\"1\" /><path clip-path=\"url(#clip380)\" d=\"M198.677 315.928 L206.315 315.928 L206.315 289.563 L198.005 291.229 L198.005 286.97 L206.269 285.303 L210.945 285.303 L210.945 315.928 L218.584 315.928 L218.584 319.863 L198.677 319.863 L198.677 315.928 Z\" fill=\"#000000\" fill-rule=\"evenodd\" fill-opacity=\"1\" /><path clip-path=\"url(#clip380)\" d=\"M238.028 288.382 Q234.417 288.382 232.588 291.947 Q230.783 295.489 230.783 302.618 Q230.783 309.725 232.588 313.289 Q234.417 316.831 238.028 316.831 Q241.662 316.831 243.468 313.289 Q245.297 309.725 245.297 302.618 Q245.297 295.489 243.468 291.947 Q241.662 288.382 238.028 288.382 M238.028 284.678 Q243.838 284.678 246.894 289.285 Q249.973 293.868 249.973 302.618 Q249.973 311.345 246.894 315.951 Q243.838 320.535 238.028 320.535 Q232.218 320.535 229.139 315.951 Q226.084 311.345 226.084 302.618 Q226.084 293.868 229.139 289.285 Q232.218 284.678 238.028 284.678 Z\" fill=\"#000000\" fill-rule=\"evenodd\" fill-opacity=\"1\" /><path clip-path=\"url(#clip380)\" d=\"M259.997 276.899 Q257.439 276.899 255.935 278.648 Q254.449 280.397 254.449 283.444 Q254.449 286.472 255.935 288.24 Q257.439 289.989 259.997 289.989 Q262.555 289.989 264.041 288.24 Q265.545 286.472 265.545 283.444 Q265.545 280.397 264.041 278.648 Q262.555 276.899 259.997 276.899 M267.539 264.994 L267.539 268.454 Q266.11 267.777 264.643 267.42 Q263.194 267.063 261.765 267.063 Q258.003 267.063 256.01 269.602 Q254.035 272.141 253.753 277.275 Q254.863 275.639 256.536 274.774 Q258.21 273.89 260.223 273.89 Q264.455 273.89 266.9 276.466 Q269.363 279.024 269.363 283.444 Q269.363 287.77 266.805 290.384 Q264.248 292.998 259.997 292.998 Q255.126 292.998 252.549 289.275 Q249.973 285.532 249.973 278.441 Q249.973 271.783 253.132 267.834 Q256.292 263.865 261.615 263.865 Q263.044 263.865 264.492 264.147 Q265.959 264.429 267.539 264.994 Z\" fill=\"#000000\" fill-rule=\"evenodd\" fill-opacity=\"1\" /><path clip-path=\"url(#clip382)\" d=\"\nM1068.75 87.9763 L1068.75 1445.72 L1589.37 1445.72 L1589.37 87.9763 L1068.75 87.9763 L1068.75 87.9763  Z\n  \" fill=\"#009af9\" fill-rule=\"evenodd\" fill-opacity=\"1\"/>\n<polyline clip-path=\"url(#clip382)\" style=\"stroke:#000000; stroke-linecap:butt; stroke-linejoin:round; stroke-width:4; stroke-opacity:1; fill:none\" points=\"\n  1068.75,87.9763 1068.75,1445.72 1589.37,1445.72 1589.37,87.9763 1068.75,87.9763 \n  \"/>\n<path clip-path=\"url(#clip382)\" d=\"\nM1719.53 835.087 L1719.53 1445.72 L2240.15 1445.72 L2240.15 835.087 L1719.53 835.087 L1719.53 835.087  Z\n  \" fill=\"#009af9\" fill-rule=\"evenodd\" fill-opacity=\"1\"/>\n<polyline clip-path=\"url(#clip382)\" style=\"stroke:#000000; stroke-linecap:butt; stroke-linejoin:round; stroke-width:4; stroke-opacity:1; fill:none\" points=\"\n  1719.53,835.087 1719.53,1445.72 2240.15,1445.72 2240.15,835.087 1719.53,835.087 \n  \"/>\n<path clip-path=\"url(#clip382)\" d=\"\nM417.974 1445.71 L417.974 1445.72 L938.594 1445.72 L938.594 1445.71 L417.974 1445.71 L417.974 1445.71  Z\n  \" fill=\"#009af9\" fill-rule=\"evenodd\" fill-opacity=\"1\"/>\n<polyline clip-path=\"url(#clip382)\" style=\"stroke:#000000; stroke-linecap:butt; stroke-linejoin:round; stroke-width:4; stroke-opacity:1; fill:none\" points=\"\n  417.974,1445.71 417.974,1445.72 938.594,1445.72 938.594,1445.71 417.974,1445.71 \n  \"/>\n<circle clip-path=\"url(#clip382)\" style=\"fill:#009af9; stroke:none; fill-opacity:0\" cx=\"1329.06\" cy=\"87.9763\" r=\"2\"/>\n<circle clip-path=\"url(#clip382)\" style=\"fill:#009af9; stroke:none; fill-opacity:0\" cx=\"1979.84\" cy=\"835.087\" r=\"2\"/>\n<circle clip-path=\"url(#clip382)\" style=\"fill:#009af9; stroke:none; fill-opacity:0\" cx=\"678.284\" cy=\"1445.71\" r=\"2\"/>\n</svg>\n",
      "text/html": [
       "<?xml version=\"1.0\" encoding=\"utf-8\"?>\n",
       "<svg xmlns=\"http://www.w3.org/2000/svg\" xmlns:xlink=\"http://www.w3.org/1999/xlink\" width=\"600\" height=\"400\" viewBox=\"0 0 2400 1600\">\n",
       "<defs>\n",
       "  <clipPath id=\"clip430\">\n",
       "    <rect x=\"0\" y=\"0\" width=\"2400\" height=\"1600\"/>\n",
       "  </clipPath>\n",
       "</defs>\n",
       "<path clip-path=\"url(#clip430)\" d=\"\n",
       "M0 1600 L2400 1600 L2400 0 L0 0  Z\n",
       "  \" fill=\"#ffffff\" fill-rule=\"evenodd\" fill-opacity=\"1\"/>\n",
       "<defs>\n",
       "  <clipPath id=\"clip431\">\n",
       "    <rect x=\"480\" y=\"0\" width=\"1681\" height=\"1600\"/>\n",
       "  </clipPath>\n",
       "</defs>\n",
       "<path clip-path=\"url(#clip430)\" d=\"\n",
       "M305.363 1486.45 L2352.76 1486.45 L2352.76 47.2441 L305.363 47.2441  Z\n",
       "  \" fill=\"#ffffff\" fill-rule=\"evenodd\" fill-opacity=\"1\"/>\n",
       "<defs>\n",
       "  <clipPath id=\"clip432\">\n",
       "    <rect x=\"305\" y=\"47\" width=\"2048\" height=\"1440\"/>\n",
       "  </clipPath>\n",
       "</defs>\n",
       "<polyline clip-path=\"url(#clip432)\" style=\"stroke:#000000; stroke-linecap:butt; stroke-linejoin:round; stroke-width:2; stroke-opacity:0.1; fill:none\" points=\"\n",
       "  352.896,1486.45 352.896,47.2441 \n",
       "  \"/>\n",
       "<polyline clip-path=\"url(#clip432)\" style=\"stroke:#000000; stroke-linecap:butt; stroke-linejoin:round; stroke-width:2; stroke-opacity:0.1; fill:none\" points=\"\n",
       "  678.284,1486.45 678.284,47.2441 \n",
       "  \"/>\n",
       "<polyline clip-path=\"url(#clip432)\" style=\"stroke:#000000; stroke-linecap:butt; stroke-linejoin:round; stroke-width:2; stroke-opacity:0.1; fill:none\" points=\"\n",
       "  1003.67,1486.45 1003.67,47.2441 \n",
       "  \"/>\n",
       "<polyline clip-path=\"url(#clip432)\" style=\"stroke:#000000; stroke-linecap:butt; stroke-linejoin:round; stroke-width:2; stroke-opacity:0.1; fill:none\" points=\"\n",
       "  1329.06,1486.45 1329.06,47.2441 \n",
       "  \"/>\n",
       "<polyline clip-path=\"url(#clip432)\" style=\"stroke:#000000; stroke-linecap:butt; stroke-linejoin:round; stroke-width:2; stroke-opacity:0.1; fill:none\" points=\"\n",
       "  1654.45,1486.45 1654.45,47.2441 \n",
       "  \"/>\n",
       "<polyline clip-path=\"url(#clip432)\" style=\"stroke:#000000; stroke-linecap:butt; stroke-linejoin:round; stroke-width:2; stroke-opacity:0.1; fill:none\" points=\"\n",
       "  1979.84,1486.45 1979.84,47.2441 \n",
       "  \"/>\n",
       "<polyline clip-path=\"url(#clip432)\" style=\"stroke:#000000; stroke-linecap:butt; stroke-linejoin:round; stroke-width:2; stroke-opacity:0.1; fill:none\" points=\"\n",
       "  2305.22,1486.45 2305.22,47.2441 \n",
       "  \"/>\n",
       "<polyline clip-path=\"url(#clip430)\" style=\"stroke:#000000; stroke-linecap:butt; stroke-linejoin:round; stroke-width:4; stroke-opacity:1; fill:none\" points=\"\n",
       "  305.363,1486.45 2352.76,1486.45 \n",
       "  \"/>\n",
       "<polyline clip-path=\"url(#clip430)\" style=\"stroke:#000000; stroke-linecap:butt; stroke-linejoin:round; stroke-width:4; stroke-opacity:1; fill:none\" points=\"\n",
       "  352.896,1486.45 352.896,1467.55 \n",
       "  \"/>\n",
       "<polyline clip-path=\"url(#clip430)\" style=\"stroke:#000000; stroke-linecap:butt; stroke-linejoin:round; stroke-width:4; stroke-opacity:1; fill:none\" points=\"\n",
       "  678.284,1486.45 678.284,1467.55 \n",
       "  \"/>\n",
       "<polyline clip-path=\"url(#clip430)\" style=\"stroke:#000000; stroke-linecap:butt; stroke-linejoin:round; stroke-width:4; stroke-opacity:1; fill:none\" points=\"\n",
       "  1003.67,1486.45 1003.67,1467.55 \n",
       "  \"/>\n",
       "<polyline clip-path=\"url(#clip430)\" style=\"stroke:#000000; stroke-linecap:butt; stroke-linejoin:round; stroke-width:4; stroke-opacity:1; fill:none\" points=\"\n",
       "  1329.06,1486.45 1329.06,1467.55 \n",
       "  \"/>\n",
       "<polyline clip-path=\"url(#clip430)\" style=\"stroke:#000000; stroke-linecap:butt; stroke-linejoin:round; stroke-width:4; stroke-opacity:1; fill:none\" points=\"\n",
       "  1654.45,1486.45 1654.45,1467.55 \n",
       "  \"/>\n",
       "<polyline clip-path=\"url(#clip430)\" style=\"stroke:#000000; stroke-linecap:butt; stroke-linejoin:round; stroke-width:4; stroke-opacity:1; fill:none\" points=\"\n",
       "  1979.84,1486.45 1979.84,1467.55 \n",
       "  \"/>\n",
       "<polyline clip-path=\"url(#clip430)\" style=\"stroke:#000000; stroke-linecap:butt; stroke-linejoin:round; stroke-width:4; stroke-opacity:1; fill:none\" points=\"\n",
       "  2305.22,1486.45 2305.22,1467.55 \n",
       "  \"/>\n",
       "<path clip-path=\"url(#clip430)\" d=\"M330.778 1517.37 Q327.167 1517.37 325.338 1520.93 Q323.533 1524.47 323.533 1531.6 Q323.533 1538.71 325.338 1542.27 Q327.167 1545.82 330.778 1545.82 Q334.412 1545.82 336.218 1542.27 Q338.047 1538.71 338.047 1531.6 Q338.047 1524.47 336.218 1520.93 Q334.412 1517.37 330.778 1517.37 M330.778 1513.66 Q336.588 1513.66 339.644 1518.27 Q342.722 1522.85 342.722 1531.6 Q342.722 1540.33 339.644 1544.94 Q336.588 1549.52 330.778 1549.52 Q324.968 1549.52 321.889 1544.94 Q318.834 1540.33 318.834 1531.6 Q318.834 1522.85 321.889 1518.27 Q324.968 1513.66 330.778 1513.66 Z\" fill=\"#000000\" fill-rule=\"evenodd\" fill-opacity=\"1\" /><path clip-path=\"url(#clip430)\" d=\"M350.94 1542.97 L355.824 1542.97 L355.824 1548.85 L350.94 1548.85 L350.94 1542.97 Z\" fill=\"#000000\" fill-rule=\"evenodd\" fill-opacity=\"1\" /><path clip-path=\"url(#clip430)\" d=\"M366.056 1514.29 L384.412 1514.29 L384.412 1518.22 L370.338 1518.22 L370.338 1526.7 Q371.357 1526.35 372.375 1526.19 Q373.394 1526 374.412 1526 Q380.199 1526 383.579 1529.17 Q386.958 1532.34 386.958 1537.76 Q386.958 1543.34 383.486 1546.44 Q380.014 1549.52 373.695 1549.52 Q371.519 1549.52 369.25 1549.15 Q367.005 1548.78 364.597 1548.04 L364.597 1543.34 Q366.681 1544.47 368.903 1545.03 Q371.125 1545.58 373.602 1545.58 Q377.607 1545.58 379.944 1543.48 Q382.282 1541.37 382.282 1537.76 Q382.282 1534.15 379.944 1532.04 Q377.607 1529.94 373.602 1529.94 Q371.727 1529.94 369.852 1530.35 Q368 1530.77 366.056 1531.65 L366.056 1514.29 Z\" fill=\"#000000\" fill-rule=\"evenodd\" fill-opacity=\"1\" /><path clip-path=\"url(#clip430)\" d=\"M645.437 1544.91 L653.076 1544.91 L653.076 1518.55 L644.766 1520.21 L644.766 1515.95 L653.029 1514.29 L657.705 1514.29 L657.705 1544.91 L665.344 1544.91 L665.344 1548.85 L645.437 1548.85 L645.437 1544.91 Z\" fill=\"#000000\" fill-rule=\"evenodd\" fill-opacity=\"1\" /><path clip-path=\"url(#clip430)\" d=\"M674.789 1542.97 L679.673 1542.97 L679.673 1548.85 L674.789 1548.85 L674.789 1542.97 Z\" fill=\"#000000\" fill-rule=\"evenodd\" fill-opacity=\"1\" /><path clip-path=\"url(#clip430)\" d=\"M699.858 1517.37 Q696.247 1517.37 694.418 1520.93 Q692.613 1524.47 692.613 1531.6 Q692.613 1538.71 694.418 1542.27 Q696.247 1545.82 699.858 1545.82 Q703.492 1545.82 705.298 1542.27 Q707.126 1538.71 707.126 1531.6 Q707.126 1524.47 705.298 1520.93 Q703.492 1517.37 699.858 1517.37 M699.858 1513.66 Q705.668 1513.66 708.724 1518.27 Q711.802 1522.85 711.802 1531.6 Q711.802 1540.33 708.724 1544.94 Q705.668 1549.52 699.858 1549.52 Q694.048 1549.52 690.969 1544.94 Q687.913 1540.33 687.913 1531.6 Q687.913 1522.85 690.969 1518.27 Q694.048 1513.66 699.858 1513.66 Z\" fill=\"#000000\" fill-rule=\"evenodd\" fill-opacity=\"1\" /><path clip-path=\"url(#clip430)\" d=\"M971.322 1544.91 L978.961 1544.91 L978.961 1518.55 L970.651 1520.21 L970.651 1515.95 L978.915 1514.29 L983.591 1514.29 L983.591 1544.91 L991.23 1544.91 L991.23 1548.85 L971.322 1548.85 L971.322 1544.91 Z\" fill=\"#000000\" fill-rule=\"evenodd\" fill-opacity=\"1\" /><path clip-path=\"url(#clip430)\" d=\"M1000.67 1542.97 L1005.56 1542.97 L1005.56 1548.85 L1000.67 1548.85 L1000.67 1542.97 Z\" fill=\"#000000\" fill-rule=\"evenodd\" fill-opacity=\"1\" /><path clip-path=\"url(#clip430)\" d=\"M1015.79 1514.29 L1034.15 1514.29 L1034.15 1518.22 L1020.07 1518.22 L1020.07 1526.7 Q1021.09 1526.35 1022.11 1526.19 Q1023.13 1526 1024.15 1526 Q1029.93 1526 1033.31 1529.17 Q1036.69 1532.34 1036.69 1537.76 Q1036.69 1543.34 1033.22 1546.44 Q1029.75 1549.52 1023.43 1549.52 Q1021.25 1549.52 1018.98 1549.15 Q1016.74 1548.78 1014.33 1548.04 L1014.33 1543.34 Q1016.41 1544.47 1018.64 1545.03 Q1020.86 1545.58 1023.34 1545.58 Q1027.34 1545.58 1029.68 1543.48 Q1032.02 1541.37 1032.02 1537.76 Q1032.02 1534.15 1029.68 1532.04 Q1027.34 1529.94 1023.34 1529.94 Q1021.46 1529.94 1019.59 1530.35 Q1017.73 1530.77 1015.79 1531.65 L1015.79 1514.29 Z\" fill=\"#000000\" fill-rule=\"evenodd\" fill-opacity=\"1\" /><path clip-path=\"url(#clip430)\" d=\"M1300.3 1544.91 L1316.62 1544.91 L1316.62 1548.85 L1294.67 1548.85 L1294.67 1544.91 Q1297.34 1542.16 1301.92 1537.53 Q1306.53 1532.88 1307.71 1531.53 Q1309.95 1529.01 1310.83 1527.27 Q1311.73 1525.51 1311.73 1523.82 Q1311.73 1521.07 1309.79 1519.33 Q1307.87 1517.6 1304.77 1517.6 Q1302.57 1517.6 1300.11 1518.36 Q1297.68 1519.13 1294.9 1520.68 L1294.9 1515.95 Q1297.73 1514.82 1300.18 1514.24 Q1302.64 1513.66 1304.67 1513.66 Q1310.04 1513.66 1313.24 1516.35 Q1316.43 1519.03 1316.43 1523.52 Q1316.43 1525.65 1315.62 1527.57 Q1314.84 1529.47 1312.73 1532.07 Q1312.15 1532.74 1309.05 1535.95 Q1305.95 1539.15 1300.3 1544.91 Z\" fill=\"#000000\" fill-rule=\"evenodd\" fill-opacity=\"1\" /><path clip-path=\"url(#clip430)\" d=\"M1326.43 1542.97 L1331.32 1542.97 L1331.32 1548.85 L1326.43 1548.85 L1326.43 1542.97 Z\" fill=\"#000000\" fill-rule=\"evenodd\" fill-opacity=\"1\" /><path clip-path=\"url(#clip430)\" d=\"M1351.5 1517.37 Q1347.89 1517.37 1346.06 1520.93 Q1344.26 1524.47 1344.26 1531.6 Q1344.26 1538.71 1346.06 1542.27 Q1347.89 1545.82 1351.5 1545.82 Q1355.14 1545.82 1356.94 1542.27 Q1358.77 1538.71 1358.77 1531.6 Q1358.77 1524.47 1356.94 1520.93 Q1355.14 1517.37 1351.5 1517.37 M1351.5 1513.66 Q1357.31 1513.66 1360.37 1518.27 Q1363.45 1522.85 1363.45 1531.6 Q1363.45 1540.33 1360.37 1544.94 Q1357.31 1549.52 1351.5 1549.52 Q1345.69 1549.52 1342.61 1544.94 Q1339.56 1540.33 1339.56 1531.6 Q1339.56 1522.85 1342.61 1518.27 Q1345.69 1513.66 1351.5 1513.66 Z\" fill=\"#000000\" fill-rule=\"evenodd\" fill-opacity=\"1\" /><path clip-path=\"url(#clip430)\" d=\"M1626.18 1544.91 L1642.5 1544.91 L1642.5 1548.85 L1620.56 1548.85 L1620.56 1544.91 Q1623.22 1542.16 1627.8 1537.53 Q1632.41 1532.88 1633.59 1531.53 Q1635.84 1529.01 1636.72 1527.27 Q1637.62 1525.51 1637.62 1523.82 Q1637.62 1521.07 1635.67 1519.33 Q1633.75 1517.6 1630.65 1517.6 Q1628.45 1517.6 1626 1518.36 Q1623.57 1519.13 1620.79 1520.68 L1620.79 1515.95 Q1623.61 1514.82 1626.07 1514.24 Q1628.52 1513.66 1630.56 1513.66 Q1635.93 1513.66 1639.12 1516.35 Q1642.32 1519.03 1642.32 1523.52 Q1642.32 1525.65 1641.51 1527.57 Q1640.72 1529.47 1638.61 1532.07 Q1638.04 1532.74 1634.93 1535.95 Q1631.83 1539.15 1626.18 1544.91 Z\" fill=\"#000000\" fill-rule=\"evenodd\" fill-opacity=\"1\" /><path clip-path=\"url(#clip430)\" d=\"M1652.32 1542.97 L1657.2 1542.97 L1657.2 1548.85 L1652.32 1548.85 L1652.32 1542.97 Z\" fill=\"#000000\" fill-rule=\"evenodd\" fill-opacity=\"1\" /><path clip-path=\"url(#clip430)\" d=\"M1667.43 1514.29 L1685.79 1514.29 L1685.79 1518.22 L1671.72 1518.22 L1671.72 1526.7 Q1672.73 1526.35 1673.75 1526.19 Q1674.77 1526 1675.79 1526 Q1681.58 1526 1684.96 1529.17 Q1688.34 1532.34 1688.34 1537.76 Q1688.34 1543.34 1684.86 1546.44 Q1681.39 1549.52 1675.07 1549.52 Q1672.9 1549.52 1670.63 1549.15 Q1668.38 1548.78 1665.98 1548.04 L1665.98 1543.34 Q1668.06 1544.47 1670.28 1545.03 Q1672.5 1545.58 1674.98 1545.58 Q1678.98 1545.58 1681.32 1543.48 Q1683.66 1541.37 1683.66 1537.76 Q1683.66 1534.15 1681.32 1532.04 Q1678.98 1529.94 1674.98 1529.94 Q1673.1 1529.94 1671.23 1530.35 Q1669.38 1530.77 1667.43 1531.65 L1667.43 1514.29 Z\" fill=\"#000000\" fill-rule=\"evenodd\" fill-opacity=\"1\" /><path clip-path=\"url(#clip430)\" d=\"M1961.14 1530.21 Q1964.5 1530.93 1966.37 1533.2 Q1968.27 1535.47 1968.27 1538.8 Q1968.27 1543.92 1964.75 1546.72 Q1961.24 1549.52 1954.75 1549.52 Q1952.58 1549.52 1950.26 1549.08 Q1947.97 1548.66 1945.52 1547.81 L1945.52 1543.29 Q1947.46 1544.43 1949.78 1545.01 Q1952.09 1545.58 1954.62 1545.58 Q1959.01 1545.58 1961.31 1543.85 Q1963.62 1542.11 1963.62 1538.8 Q1963.62 1535.75 1961.47 1534.03 Q1959.34 1532.3 1955.52 1532.3 L1951.49 1532.3 L1951.49 1528.45 L1955.7 1528.45 Q1959.15 1528.45 1960.98 1527.09 Q1962.81 1525.7 1962.81 1523.11 Q1962.81 1520.45 1960.91 1519.03 Q1959.04 1517.6 1955.52 1517.6 Q1953.6 1517.6 1951.4 1518.01 Q1949.2 1518.43 1946.56 1519.31 L1946.56 1515.14 Q1949.22 1514.4 1951.54 1514.03 Q1953.87 1513.66 1955.94 1513.66 Q1961.26 1513.66 1964.36 1516.09 Q1967.46 1518.5 1967.46 1522.62 Q1967.46 1525.49 1965.82 1527.48 Q1964.18 1529.45 1961.14 1530.21 Z\" fill=\"#000000\" fill-rule=\"evenodd\" fill-opacity=\"1\" /><path clip-path=\"url(#clip430)\" d=\"M1977.14 1542.97 L1982.02 1542.97 L1982.02 1548.85 L1977.14 1548.85 L1977.14 1542.97 Z\" fill=\"#000000\" fill-rule=\"evenodd\" fill-opacity=\"1\" /><path clip-path=\"url(#clip430)\" d=\"M2002.21 1517.37 Q1998.6 1517.37 1996.77 1520.93 Q1994.96 1524.47 1994.96 1531.6 Q1994.96 1538.71 1996.77 1542.27 Q1998.6 1545.82 2002.21 1545.82 Q2005.84 1545.82 2007.65 1542.27 Q2009.48 1538.71 2009.48 1531.6 Q2009.48 1524.47 2007.65 1520.93 Q2005.84 1517.37 2002.21 1517.37 M2002.21 1513.66 Q2008.02 1513.66 2011.07 1518.27 Q2014.15 1522.85 2014.15 1531.6 Q2014.15 1540.33 2011.07 1544.94 Q2008.02 1549.52 2002.21 1549.52 Q1996.4 1549.52 1993.32 1544.94 Q1990.26 1540.33 1990.26 1531.6 Q1990.26 1522.85 1993.32 1518.27 Q1996.4 1513.66 2002.21 1513.66 Z\" fill=\"#000000\" fill-rule=\"evenodd\" fill-opacity=\"1\" /><path clip-path=\"url(#clip430)\" d=\"M2287.03 1530.21 Q2290.39 1530.93 2292.26 1533.2 Q2294.16 1535.47 2294.16 1538.8 Q2294.16 1543.92 2290.64 1546.72 Q2287.12 1549.52 2280.64 1549.52 Q2278.46 1549.52 2276.15 1549.08 Q2273.86 1548.66 2271.4 1547.81 L2271.4 1543.29 Q2273.35 1544.43 2275.66 1545.01 Q2277.98 1545.58 2280.5 1545.58 Q2284.9 1545.58 2287.19 1543.85 Q2289.51 1542.11 2289.51 1538.8 Q2289.51 1535.75 2287.35 1534.03 Q2285.22 1532.3 2281.4 1532.3 L2277.38 1532.3 L2277.38 1528.45 L2281.59 1528.45 Q2285.04 1528.45 2286.87 1527.09 Q2288.7 1525.7 2288.7 1523.11 Q2288.7 1520.45 2286.8 1519.03 Q2284.92 1517.6 2281.4 1517.6 Q2279.48 1517.6 2277.28 1518.01 Q2275.08 1518.43 2272.45 1519.31 L2272.45 1515.14 Q2275.11 1514.4 2277.42 1514.03 Q2279.76 1513.66 2281.82 1513.66 Q2287.14 1513.66 2290.25 1516.09 Q2293.35 1518.5 2293.35 1522.62 Q2293.35 1525.49 2291.7 1527.48 Q2290.06 1529.45 2287.03 1530.21 Z\" fill=\"#000000\" fill-rule=\"evenodd\" fill-opacity=\"1\" /><path clip-path=\"url(#clip430)\" d=\"M2303.02 1542.97 L2307.91 1542.97 L2307.91 1548.85 L2303.02 1548.85 L2303.02 1542.97 Z\" fill=\"#000000\" fill-rule=\"evenodd\" fill-opacity=\"1\" /><path clip-path=\"url(#clip430)\" d=\"M2318.14 1514.29 L2336.5 1514.29 L2336.5 1518.22 L2322.42 1518.22 L2322.42 1526.7 Q2323.44 1526.35 2324.46 1526.19 Q2325.48 1526 2326.5 1526 Q2332.28 1526 2335.66 1529.17 Q2339.04 1532.34 2339.04 1537.76 Q2339.04 1543.34 2335.57 1546.44 Q2332.1 1549.52 2325.78 1549.52 Q2323.6 1549.52 2321.33 1549.15 Q2319.09 1548.78 2316.68 1548.04 L2316.68 1543.34 Q2318.76 1544.47 2320.99 1545.03 Q2323.21 1545.58 2325.69 1545.58 Q2329.69 1545.58 2332.03 1543.48 Q2334.37 1541.37 2334.37 1537.76 Q2334.37 1534.15 2332.03 1532.04 Q2329.69 1529.94 2325.69 1529.94 Q2323.81 1529.94 2321.94 1530.35 Q2320.08 1530.77 2318.14 1531.65 L2318.14 1514.29 Z\" fill=\"#000000\" fill-rule=\"evenodd\" fill-opacity=\"1\" /><polyline clip-path=\"url(#clip432)\" style=\"stroke:#000000; stroke-linecap:butt; stroke-linejoin:round; stroke-width:2; stroke-opacity:0.1; fill:none\" points=\"\n",
       "  305.363,1445.72 2352.76,1445.72 \n",
       "  \"/>\n",
       "<polyline clip-path=\"url(#clip432)\" style=\"stroke:#000000; stroke-linecap:butt; stroke-linejoin:round; stroke-width:2; stroke-opacity:0.1; fill:none\" points=\"\n",
       "  305.363,1158.32 2352.76,1158.32 \n",
       "  \"/>\n",
       "<polyline clip-path=\"url(#clip432)\" style=\"stroke:#000000; stroke-linecap:butt; stroke-linejoin:round; stroke-width:2; stroke-opacity:0.1; fill:none\" points=\"\n",
       "  305.363,870.926 2352.76,870.926 \n",
       "  \"/>\n",
       "<polyline clip-path=\"url(#clip432)\" style=\"stroke:#000000; stroke-linecap:butt; stroke-linejoin:round; stroke-width:2; stroke-opacity:0.1; fill:none\" points=\"\n",
       "  305.363,583.531 2352.76,583.531 \n",
       "  \"/>\n",
       "<polyline clip-path=\"url(#clip432)\" style=\"stroke:#000000; stroke-linecap:butt; stroke-linejoin:round; stroke-width:2; stroke-opacity:0.1; fill:none\" points=\"\n",
       "  305.363,296.136 2352.76,296.136 \n",
       "  \"/>\n",
       "<polyline clip-path=\"url(#clip430)\" style=\"stroke:#000000; stroke-linecap:butt; stroke-linejoin:round; stroke-width:4; stroke-opacity:1; fill:none\" points=\"\n",
       "  305.363,1486.45 305.363,47.2441 \n",
       "  \"/>\n",
       "<polyline clip-path=\"url(#clip430)\" style=\"stroke:#000000; stroke-linecap:butt; stroke-linejoin:round; stroke-width:4; stroke-opacity:1; fill:none\" points=\"\n",
       "  305.363,1445.72 324.261,1445.72 \n",
       "  \"/>\n",
       "<polyline clip-path=\"url(#clip430)\" style=\"stroke:#000000; stroke-linecap:butt; stroke-linejoin:round; stroke-width:4; stroke-opacity:1; fill:none\" points=\"\n",
       "  305.363,1158.32 324.261,1158.32 \n",
       "  \"/>\n",
       "<polyline clip-path=\"url(#clip430)\" style=\"stroke:#000000; stroke-linecap:butt; stroke-linejoin:round; stroke-width:4; stroke-opacity:1; fill:none\" points=\"\n",
       "  305.363,870.926 324.261,870.926 \n",
       "  \"/>\n",
       "<polyline clip-path=\"url(#clip430)\" style=\"stroke:#000000; stroke-linecap:butt; stroke-linejoin:round; stroke-width:4; stroke-opacity:1; fill:none\" points=\"\n",
       "  305.363,583.531 324.261,583.531 \n",
       "  \"/>\n",
       "<polyline clip-path=\"url(#clip430)\" style=\"stroke:#000000; stroke-linecap:butt; stroke-linejoin:round; stroke-width:4; stroke-opacity:1; fill:none\" points=\"\n",
       "  305.363,296.136 324.261,296.136 \n",
       "  \"/>\n",
       "<path clip-path=\"url(#clip430)\" d=\"M257.419 1431.51 Q253.808 1431.51 251.979 1435.08 Q250.174 1438.62 250.174 1445.75 Q250.174 1452.86 251.979 1456.42 Q253.808 1459.96 257.419 1459.96 Q261.053 1459.96 262.859 1456.42 Q264.687 1452.86 264.687 1445.75 Q264.687 1438.62 262.859 1435.08 Q261.053 1431.51 257.419 1431.51 M257.419 1427.81 Q263.229 1427.81 266.285 1432.42 Q269.363 1437 269.363 1445.75 Q269.363 1454.48 266.285 1459.08 Q263.229 1463.67 257.419 1463.67 Q251.609 1463.67 248.53 1459.08 Q245.475 1454.48 245.475 1445.75 Q245.475 1437 248.53 1432.42 Q251.609 1427.81 257.419 1427.81 Z\" fill=\"#000000\" fill-rule=\"evenodd\" fill-opacity=\"1\" /><path clip-path=\"url(#clip430)\" d=\"M53.8581 1147.49 L72.2145 1147.49 L72.2145 1151.42 L58.1405 1151.42 L58.1405 1159.9 Q59.159 1159.55 60.1776 1159.39 Q61.1961 1159.2 62.2146 1159.2 Q68.0016 1159.2 71.3812 1162.37 Q74.7608 1165.54 74.7608 1170.96 Q74.7608 1176.54 71.2886 1179.64 Q67.8164 1182.72 61.497 1182.72 Q59.3211 1182.72 57.0526 1182.35 Q54.8072 1181.98 52.3998 1181.24 L52.3998 1176.54 Q54.4831 1177.67 56.7053 1178.23 Q58.9276 1178.78 61.4044 1178.78 Q65.409 1178.78 67.747 1176.68 Q70.0849 1174.57 70.0849 1170.96 Q70.0849 1167.35 67.747 1165.24 Q65.409 1163.14 61.4044 1163.14 Q59.5294 1163.14 57.6544 1163.55 Q55.8026 1163.97 53.8581 1164.85 L53.8581 1147.49 Z\" fill=\"#000000\" fill-rule=\"evenodd\" fill-opacity=\"1\" /><path clip-path=\"url(#clip430)\" d=\"M83.9737 1176.17 L88.858 1176.17 L88.858 1182.05 L83.9737 1182.05 L83.9737 1176.17 Z\" fill=\"#000000\" fill-rule=\"evenodd\" fill-opacity=\"1\" /><path clip-path=\"url(#clip430)\" d=\"M109.043 1150.57 Q105.432 1150.57 103.603 1154.13 Q101.798 1157.67 101.798 1164.8 Q101.798 1171.91 103.603 1175.47 Q105.432 1179.02 109.043 1179.02 Q112.677 1179.02 114.483 1175.47 Q116.312 1171.91 116.312 1164.8 Q116.312 1157.67 114.483 1154.13 Q112.677 1150.57 109.043 1150.57 M109.043 1146.86 Q114.853 1146.86 117.909 1151.47 Q120.987 1156.05 120.987 1164.8 Q120.987 1173.53 117.909 1178.14 Q114.853 1182.72 109.043 1182.72 Q103.233 1182.72 100.154 1178.14 Q97.0986 1173.53 97.0986 1164.8 Q97.0986 1156.05 100.154 1151.47 Q103.233 1146.86 109.043 1146.86 Z\" fill=\"#000000\" fill-rule=\"evenodd\" fill-opacity=\"1\" /><path clip-path=\"url(#clip430)\" d=\"M139.205 1150.57 Q135.594 1150.57 133.765 1154.13 Q131.96 1157.67 131.96 1164.8 Q131.96 1171.91 133.765 1175.47 Q135.594 1179.02 139.205 1179.02 Q142.839 1179.02 144.645 1175.47 Q146.473 1171.91 146.473 1164.8 Q146.473 1157.67 144.645 1154.13 Q142.839 1150.57 139.205 1150.57 M139.205 1146.86 Q145.015 1146.86 148.071 1151.47 Q151.149 1156.05 151.149 1164.8 Q151.149 1173.53 148.071 1178.14 Q145.015 1182.72 139.205 1182.72 Q133.395 1182.72 130.316 1178.14 Q127.261 1173.53 127.261 1164.8 Q127.261 1156.05 130.316 1151.47 Q133.395 1146.86 139.205 1146.86 Z\" fill=\"#000000\" fill-rule=\"evenodd\" fill-opacity=\"1\" /><path clip-path=\"url(#clip430)\" d=\"M187.538 1156.59 L176.959 1167.21 L187.538 1177.79 L184.783 1180.59 L174.158 1169.97 L163.533 1180.59 L160.802 1177.79 L171.358 1167.21 L160.802 1156.59 L163.533 1153.78 L174.158 1164.41 L184.783 1153.78 L187.538 1156.59 Z\" fill=\"#000000\" fill-rule=\"evenodd\" fill-opacity=\"1\" /><path clip-path=\"url(#clip430)\" d=\"M199.899 1178.11 L207.538 1178.11 L207.538 1151.75 L199.228 1153.41 L199.228 1149.15 L207.492 1147.49 L212.167 1147.49 L212.167 1178.11 L219.806 1178.11 L219.806 1182.05 L199.899 1182.05 L199.899 1178.11 Z\" fill=\"#000000\" fill-rule=\"evenodd\" fill-opacity=\"1\" /><path clip-path=\"url(#clip430)\" d=\"M239.251 1150.57 Q235.64 1150.57 233.811 1154.13 Q232.005 1157.67 232.005 1164.8 Q232.005 1171.91 233.811 1175.47 Q235.64 1179.02 239.251 1179.02 Q242.885 1179.02 244.69 1175.47 Q246.519 1171.91 246.519 1164.8 Q246.519 1157.67 244.69 1154.13 Q242.885 1150.57 239.251 1150.57 M239.251 1146.86 Q245.061 1146.86 248.116 1151.47 Q251.195 1156.05 251.195 1164.8 Q251.195 1173.53 248.116 1178.14 Q245.061 1182.72 239.251 1182.72 Q233.441 1182.72 230.362 1178.14 Q227.306 1173.53 227.306 1164.8 Q227.306 1156.05 230.362 1151.47 Q233.441 1146.86 239.251 1146.86 Z\" fill=\"#000000\" fill-rule=\"evenodd\" fill-opacity=\"1\" /><path clip-path=\"url(#clip430)\" d=\"M252.38 1126.56 L267.294 1126.56 L267.294 1129.76 L255.859 1129.76 L255.859 1136.64 Q256.687 1136.36 257.514 1136.23 Q258.342 1136.07 259.17 1136.07 Q263.871 1136.07 266.617 1138.65 Q269.363 1141.23 269.363 1145.63 Q269.363 1150.16 266.542 1152.68 Q263.721 1155.18 258.586 1155.18 Q256.819 1155.18 254.975 1154.88 Q253.151 1154.58 251.195 1153.98 L251.195 1150.16 Q252.888 1151.08 254.693 1151.53 Q256.499 1151.99 258.511 1151.99 Q261.765 1151.99 263.665 1150.27 Q265.564 1148.56 265.564 1145.63 Q265.564 1142.7 263.665 1140.98 Q261.765 1139.27 258.511 1139.27 Q256.988 1139.27 255.464 1139.61 Q253.96 1139.95 252.38 1140.66 L252.38 1126.56 Z\" fill=\"#000000\" fill-rule=\"evenodd\" fill-opacity=\"1\" /><path clip-path=\"url(#clip430)\" d=\"M53.3995 890.718 L61.0384 890.718 L61.0384 864.353 L52.7282 866.019 L52.7282 861.76 L60.9921 860.093 L65.668 860.093 L65.668 890.718 L73.3068 890.718 L73.3068 894.653 L53.3995 894.653 L53.3995 890.718 Z\" fill=\"#000000\" fill-rule=\"evenodd\" fill-opacity=\"1\" /><path clip-path=\"url(#clip430)\" d=\"M82.7512 888.774 L87.6354 888.774 L87.6354 894.653 L82.7512 894.653 L82.7512 888.774 Z\" fill=\"#000000\" fill-rule=\"evenodd\" fill-opacity=\"1\" /><path clip-path=\"url(#clip430)\" d=\"M107.821 863.172 Q104.209 863.172 102.381 866.737 Q100.575 870.279 100.575 877.408 Q100.575 884.515 102.381 888.079 Q104.209 891.621 107.821 891.621 Q111.455 891.621 113.26 888.079 Q115.089 884.515 115.089 877.408 Q115.089 870.279 113.26 866.737 Q111.455 863.172 107.821 863.172 M107.821 859.468 Q113.631 859.468 116.686 864.075 Q119.765 868.658 119.765 877.408 Q119.765 886.135 116.686 890.741 Q113.631 895.325 107.821 895.325 Q102.01 895.325 98.9317 890.741 Q95.8761 886.135 95.8761 877.408 Q95.8761 868.658 98.9317 864.075 Q102.01 859.468 107.821 859.468 Z\" fill=\"#000000\" fill-rule=\"evenodd\" fill-opacity=\"1\" /><path clip-path=\"url(#clip430)\" d=\"M137.982 863.172 Q134.371 863.172 132.543 866.737 Q130.737 870.279 130.737 877.408 Q130.737 884.515 132.543 888.079 Q134.371 891.621 137.982 891.621 Q141.617 891.621 143.422 888.079 Q145.251 884.515 145.251 877.408 Q145.251 870.279 143.422 866.737 Q141.617 863.172 137.982 863.172 M137.982 859.468 Q143.793 859.468 146.848 864.075 Q149.927 868.658 149.927 877.408 Q149.927 886.135 146.848 890.741 Q143.793 895.325 137.982 895.325 Q132.172 895.325 129.094 890.741 Q126.038 886.135 126.038 877.408 Q126.038 868.658 129.094 864.075 Q132.172 859.468 137.982 859.468 Z\" fill=\"#000000\" fill-rule=\"evenodd\" fill-opacity=\"1\" /><path clip-path=\"url(#clip430)\" d=\"M186.315 869.191 L175.737 879.815 L186.315 890.394 L183.561 893.195 L172.936 882.57 L162.311 893.195 L159.58 890.394 L170.135 879.815 L159.58 869.191 L162.311 866.39 L172.936 877.015 L183.561 866.39 L186.315 869.191 Z\" fill=\"#000000\" fill-rule=\"evenodd\" fill-opacity=\"1\" /><path clip-path=\"url(#clip430)\" d=\"M198.677 890.718 L206.315 890.718 L206.315 864.353 L198.005 866.019 L198.005 861.76 L206.269 860.093 L210.945 860.093 L210.945 890.718 L218.584 890.718 L218.584 894.653 L198.677 894.653 L198.677 890.718 Z\" fill=\"#000000\" fill-rule=\"evenodd\" fill-opacity=\"1\" /><path clip-path=\"url(#clip430)\" d=\"M238.028 863.172 Q234.417 863.172 232.588 866.737 Q230.783 870.279 230.783 877.408 Q230.783 884.515 232.588 888.079 Q234.417 891.621 238.028 891.621 Q241.662 891.621 243.468 888.079 Q245.297 884.515 245.297 877.408 Q245.297 870.279 243.468 866.737 Q241.662 863.172 238.028 863.172 M238.028 859.468 Q243.838 859.468 246.894 864.075 Q249.973 868.658 249.973 877.408 Q249.973 886.135 246.894 890.741 Q243.838 895.325 238.028 895.325 Q232.218 895.325 229.139 890.741 Q226.084 886.135 226.084 877.408 Q226.084 868.658 229.139 864.075 Q232.218 859.468 238.028 859.468 Z\" fill=\"#000000\" fill-rule=\"evenodd\" fill-opacity=\"1\" /><path clip-path=\"url(#clip430)\" d=\"M259.997 851.689 Q257.439 851.689 255.935 853.438 Q254.449 855.187 254.449 858.234 Q254.449 861.262 255.935 863.03 Q257.439 864.779 259.997 864.779 Q262.555 864.779 264.041 863.03 Q265.545 861.262 265.545 858.234 Q265.545 855.187 264.041 853.438 Q262.555 851.689 259.997 851.689 M267.539 839.784 L267.539 843.244 Q266.11 842.567 264.643 842.21 Q263.194 841.852 261.765 841.852 Q258.003 841.852 256.01 844.392 Q254.035 846.931 253.753 852.065 Q254.863 850.429 256.536 849.564 Q258.21 848.68 260.223 848.68 Q264.455 848.68 266.9 851.256 Q269.363 853.814 269.363 858.234 Q269.363 862.56 266.805 865.174 Q264.248 867.788 259.997 867.788 Q255.126 867.788 252.549 864.064 Q249.973 860.322 249.973 853.231 Q249.973 846.573 253.132 842.624 Q256.292 838.655 261.615 838.655 Q263.044 838.655 264.492 838.937 Q265.959 839.219 267.539 839.784 Z\" fill=\"#000000\" fill-rule=\"evenodd\" fill-opacity=\"1\" /><path clip-path=\"url(#clip430)\" d=\"M53.3995 603.323 L61.0384 603.323 L61.0384 576.958 L52.7282 578.624 L52.7282 574.365 L60.9921 572.698 L65.668 572.698 L65.668 603.323 L73.3068 603.323 L73.3068 607.258 L53.3995 607.258 L53.3995 603.323 Z\" fill=\"#000000\" fill-rule=\"evenodd\" fill-opacity=\"1\" /><path clip-path=\"url(#clip430)\" d=\"M82.7512 601.379 L87.6354 601.379 L87.6354 607.258 L82.7512 607.258 L82.7512 601.379 Z\" fill=\"#000000\" fill-rule=\"evenodd\" fill-opacity=\"1\" /><path clip-path=\"url(#clip430)\" d=\"M97.8669 572.698 L116.223 572.698 L116.223 576.634 L102.149 576.634 L102.149 585.106 Q103.168 584.759 104.186 584.597 Q105.205 584.411 106.223 584.411 Q112.01 584.411 115.39 587.583 Q118.77 590.754 118.77 596.171 Q118.77 601.749 115.297 604.851 Q111.825 607.93 105.506 607.93 Q103.33 607.93 101.061 607.559 Q98.8159 607.189 96.4085 606.448 L96.4085 601.749 Q98.4919 602.883 100.714 603.439 Q102.936 603.995 105.413 603.995 Q109.418 603.995 111.756 601.888 Q114.094 599.782 114.094 596.171 Q114.094 592.559 111.756 590.453 Q109.418 588.346 105.413 588.346 Q103.538 588.346 101.663 588.763 Q99.8113 589.18 97.8669 590.059 L97.8669 572.698 Z\" fill=\"#000000\" fill-rule=\"evenodd\" fill-opacity=\"1\" /><path clip-path=\"url(#clip430)\" d=\"M137.982 575.777 Q134.371 575.777 132.543 579.342 Q130.737 582.884 130.737 590.013 Q130.737 597.12 132.543 600.684 Q134.371 604.226 137.982 604.226 Q141.617 604.226 143.422 600.684 Q145.251 597.12 145.251 590.013 Q145.251 582.884 143.422 579.342 Q141.617 575.777 137.982 575.777 M137.982 572.073 Q143.793 572.073 146.848 576.68 Q149.927 581.263 149.927 590.013 Q149.927 598.74 146.848 603.346 Q143.793 607.93 137.982 607.93 Q132.172 607.93 129.094 603.346 Q126.038 598.74 126.038 590.013 Q126.038 581.263 129.094 576.68 Q132.172 572.073 137.982 572.073 Z\" fill=\"#000000\" fill-rule=\"evenodd\" fill-opacity=\"1\" /><path clip-path=\"url(#clip430)\" d=\"M186.315 581.796 L175.737 592.421 L186.315 602.999 L183.561 605.8 L172.936 595.175 L162.311 605.8 L159.58 602.999 L170.135 592.421 L159.58 581.796 L162.311 578.995 L172.936 589.62 L183.561 578.995 L186.315 581.796 Z\" fill=\"#000000\" fill-rule=\"evenodd\" fill-opacity=\"1\" /><path clip-path=\"url(#clip430)\" d=\"M198.677 603.323 L206.315 603.323 L206.315 576.958 L198.005 578.624 L198.005 574.365 L206.269 572.698 L210.945 572.698 L210.945 603.323 L218.584 603.323 L218.584 607.258 L198.677 607.258 L198.677 603.323 Z\" fill=\"#000000\" fill-rule=\"evenodd\" fill-opacity=\"1\" /><path clip-path=\"url(#clip430)\" d=\"M238.028 575.777 Q234.417 575.777 232.588 579.342 Q230.783 582.884 230.783 590.013 Q230.783 597.12 232.588 600.684 Q234.417 604.226 238.028 604.226 Q241.662 604.226 243.468 600.684 Q245.297 597.12 245.297 590.013 Q245.297 582.884 243.468 579.342 Q241.662 575.777 238.028 575.777 M238.028 572.073 Q243.838 572.073 246.894 576.68 Q249.973 581.263 249.973 590.013 Q249.973 598.74 246.894 603.346 Q243.838 607.93 238.028 607.93 Q232.218 607.93 229.139 603.346 Q226.084 598.74 226.084 590.013 Q226.084 581.263 229.139 576.68 Q232.218 572.073 238.028 572.073 Z\" fill=\"#000000\" fill-rule=\"evenodd\" fill-opacity=\"1\" /><path clip-path=\"url(#clip430)\" d=\"M259.997 564.294 Q257.439 564.294 255.935 566.043 Q254.449 567.792 254.449 570.839 Q254.449 573.867 255.935 575.635 Q257.439 577.384 259.997 577.384 Q262.555 577.384 264.041 575.635 Q265.545 573.867 265.545 570.839 Q265.545 567.792 264.041 566.043 Q262.555 564.294 259.997 564.294 M267.539 552.389 L267.539 555.849 Q266.11 555.172 264.643 554.815 Q263.194 554.458 261.765 554.458 Q258.003 554.458 256.01 556.997 Q254.035 559.536 253.753 564.67 Q254.863 563.034 256.536 562.169 Q258.21 561.285 260.223 561.285 Q264.455 561.285 266.9 563.861 Q269.363 566.419 269.363 570.839 Q269.363 575.165 266.805 577.779 Q264.248 580.393 259.997 580.393 Q255.126 580.393 252.549 576.67 Q249.973 572.927 249.973 565.836 Q249.973 559.178 253.132 555.229 Q256.292 551.26 261.615 551.26 Q263.044 551.26 264.492 551.542 Q265.959 551.824 267.539 552.389 Z\" fill=\"#000000\" fill-rule=\"evenodd\" fill-opacity=\"1\" /><path clip-path=\"url(#clip430)\" d=\"M56.6171 315.928 L72.9365 315.928 L72.9365 319.863 L50.9921 319.863 L50.9921 315.928 Q53.6541 313.174 58.2375 308.544 Q62.8439 303.891 64.0245 302.549 Q66.2698 300.026 67.1494 298.29 Q68.0522 296.53 68.0522 294.84 Q68.0522 292.086 66.1078 290.35 Q64.1865 288.614 61.0847 288.614 Q58.8856 288.614 56.4319 289.378 Q54.0014 290.141 51.2236 291.692 L51.2236 286.97 Q54.0477 285.836 56.5014 285.257 Q58.955 284.678 60.9921 284.678 Q66.3624 284.678 69.5568 287.364 Q72.7513 290.049 72.7513 294.54 Q72.7513 296.669 71.9411 298.59 Q71.1541 300.489 69.0476 303.081 Q68.4689 303.752 65.367 306.97 Q62.2652 310.164 56.6171 315.928 Z\" fill=\"#000000\" fill-rule=\"evenodd\" fill-opacity=\"1\" /><path clip-path=\"url(#clip430)\" d=\"M82.7512 313.984 L87.6354 313.984 L87.6354 319.863 L82.7512 319.863 L82.7512 313.984 Z\" fill=\"#000000\" fill-rule=\"evenodd\" fill-opacity=\"1\" /><path clip-path=\"url(#clip430)\" d=\"M107.821 288.382 Q104.209 288.382 102.381 291.947 Q100.575 295.489 100.575 302.618 Q100.575 309.725 102.381 313.289 Q104.209 316.831 107.821 316.831 Q111.455 316.831 113.26 313.289 Q115.089 309.725 115.089 302.618 Q115.089 295.489 113.26 291.947 Q111.455 288.382 107.821 288.382 M107.821 284.678 Q113.631 284.678 116.686 289.285 Q119.765 293.868 119.765 302.618 Q119.765 311.345 116.686 315.951 Q113.631 320.535 107.821 320.535 Q102.01 320.535 98.9317 315.951 Q95.8761 311.345 95.8761 302.618 Q95.8761 293.868 98.9317 289.285 Q102.01 284.678 107.821 284.678 Z\" fill=\"#000000\" fill-rule=\"evenodd\" fill-opacity=\"1\" /><path clip-path=\"url(#clip430)\" d=\"M137.982 288.382 Q134.371 288.382 132.543 291.947 Q130.737 295.489 130.737 302.618 Q130.737 309.725 132.543 313.289 Q134.371 316.831 137.982 316.831 Q141.617 316.831 143.422 313.289 Q145.251 309.725 145.251 302.618 Q145.251 295.489 143.422 291.947 Q141.617 288.382 137.982 288.382 M137.982 284.678 Q143.793 284.678 146.848 289.285 Q149.927 293.868 149.927 302.618 Q149.927 311.345 146.848 315.951 Q143.793 320.535 137.982 320.535 Q132.172 320.535 129.094 315.951 Q126.038 311.345 126.038 302.618 Q126.038 293.868 129.094 289.285 Q132.172 284.678 137.982 284.678 Z\" fill=\"#000000\" fill-rule=\"evenodd\" fill-opacity=\"1\" /><path clip-path=\"url(#clip430)\" d=\"M186.315 294.401 L175.737 305.026 L186.315 315.604 L183.561 318.405 L172.936 307.78 L162.311 318.405 L159.58 315.604 L170.135 305.026 L159.58 294.401 L162.311 291.6 L172.936 302.225 L183.561 291.6 L186.315 294.401 Z\" fill=\"#000000\" fill-rule=\"evenodd\" fill-opacity=\"1\" /><path clip-path=\"url(#clip430)\" d=\"M198.677 315.928 L206.315 315.928 L206.315 289.563 L198.005 291.229 L198.005 286.97 L206.269 285.303 L210.945 285.303 L210.945 315.928 L218.584 315.928 L218.584 319.863 L198.677 319.863 L198.677 315.928 Z\" fill=\"#000000\" fill-rule=\"evenodd\" fill-opacity=\"1\" /><path clip-path=\"url(#clip430)\" d=\"M238.028 288.382 Q234.417 288.382 232.588 291.947 Q230.783 295.489 230.783 302.618 Q230.783 309.725 232.588 313.289 Q234.417 316.831 238.028 316.831 Q241.662 316.831 243.468 313.289 Q245.297 309.725 245.297 302.618 Q245.297 295.489 243.468 291.947 Q241.662 288.382 238.028 288.382 M238.028 284.678 Q243.838 284.678 246.894 289.285 Q249.973 293.868 249.973 302.618 Q249.973 311.345 246.894 315.951 Q243.838 320.535 238.028 320.535 Q232.218 320.535 229.139 315.951 Q226.084 311.345 226.084 302.618 Q226.084 293.868 229.139 289.285 Q232.218 284.678 238.028 284.678 Z\" fill=\"#000000\" fill-rule=\"evenodd\" fill-opacity=\"1\" /><path clip-path=\"url(#clip430)\" d=\"M259.997 276.899 Q257.439 276.899 255.935 278.648 Q254.449 280.397 254.449 283.444 Q254.449 286.472 255.935 288.24 Q257.439 289.989 259.997 289.989 Q262.555 289.989 264.041 288.24 Q265.545 286.472 265.545 283.444 Q265.545 280.397 264.041 278.648 Q262.555 276.899 259.997 276.899 M267.539 264.994 L267.539 268.454 Q266.11 267.777 264.643 267.42 Q263.194 267.063 261.765 267.063 Q258.003 267.063 256.01 269.602 Q254.035 272.141 253.753 277.275 Q254.863 275.639 256.536 274.774 Q258.21 273.89 260.223 273.89 Q264.455 273.89 266.9 276.466 Q269.363 279.024 269.363 283.444 Q269.363 287.77 266.805 290.384 Q264.248 292.998 259.997 292.998 Q255.126 292.998 252.549 289.275 Q249.973 285.532 249.973 278.441 Q249.973 271.783 253.132 267.834 Q256.292 263.865 261.615 263.865 Q263.044 263.865 264.492 264.147 Q265.959 264.429 267.539 264.994 Z\" fill=\"#000000\" fill-rule=\"evenodd\" fill-opacity=\"1\" /><path clip-path=\"url(#clip432)\" d=\"\n",
       "M1068.75 87.9763 L1068.75 1445.72 L1589.37 1445.72 L1589.37 87.9763 L1068.75 87.9763 L1068.75 87.9763  Z\n",
       "  \" fill=\"#009af9\" fill-rule=\"evenodd\" fill-opacity=\"1\"/>\n",
       "<polyline clip-path=\"url(#clip432)\" style=\"stroke:#000000; stroke-linecap:butt; stroke-linejoin:round; stroke-width:4; stroke-opacity:1; fill:none\" points=\"\n",
       "  1068.75,87.9763 1068.75,1445.72 1589.37,1445.72 1589.37,87.9763 1068.75,87.9763 \n",
       "  \"/>\n",
       "<path clip-path=\"url(#clip432)\" d=\"\n",
       "M1719.53 835.087 L1719.53 1445.72 L2240.15 1445.72 L2240.15 835.087 L1719.53 835.087 L1719.53 835.087  Z\n",
       "  \" fill=\"#009af9\" fill-rule=\"evenodd\" fill-opacity=\"1\"/>\n",
       "<polyline clip-path=\"url(#clip432)\" style=\"stroke:#000000; stroke-linecap:butt; stroke-linejoin:round; stroke-width:4; stroke-opacity:1; fill:none\" points=\"\n",
       "  1719.53,835.087 1719.53,1445.72 2240.15,1445.72 2240.15,835.087 1719.53,835.087 \n",
       "  \"/>\n",
       "<path clip-path=\"url(#clip432)\" d=\"\n",
       "M417.974 1445.71 L417.974 1445.72 L938.594 1445.72 L938.594 1445.71 L417.974 1445.71 L417.974 1445.71  Z\n",
       "  \" fill=\"#009af9\" fill-rule=\"evenodd\" fill-opacity=\"1\"/>\n",
       "<polyline clip-path=\"url(#clip432)\" style=\"stroke:#000000; stroke-linecap:butt; stroke-linejoin:round; stroke-width:4; stroke-opacity:1; fill:none\" points=\"\n",
       "  417.974,1445.71 417.974,1445.72 938.594,1445.72 938.594,1445.71 417.974,1445.71 \n",
       "  \"/>\n",
       "<circle clip-path=\"url(#clip432)\" style=\"fill:#009af9; stroke:none; fill-opacity:0\" cx=\"1329.06\" cy=\"87.9763\" r=\"2\"/>\n",
       "<circle clip-path=\"url(#clip432)\" style=\"fill:#009af9; stroke:none; fill-opacity:0\" cx=\"1979.84\" cy=\"835.087\" r=\"2\"/>\n",
       "<circle clip-path=\"url(#clip432)\" style=\"fill:#009af9; stroke:none; fill-opacity:0\" cx=\"678.284\" cy=\"1445.71\" r=\"2\"/>\n",
       "</svg>\n"
      ]
     },
     "metadata": {},
     "output_type": "display_data"
    }
   ],
   "source": [
    "# Step counts\n",
    "bar(counts, label=false)"
   ]
  },
  {
   "cell_type": "code",
   "execution_count": 16,
   "metadata": {},
   "outputs": [
    {
     "name": "stdout",
     "output_type": "stream",
     "text": [
      "Twin Primes : (419999, 420001)\n",
      "Product     : 176399999999\n",
      "Step 1      : 89\n",
      "Step 2      : 17\n",
      "Step 3      : 8\n"
     ]
    }
   ],
   "source": [
    "# First occurence of 3 steps (in twin primes vector)\n",
    "digital_root(tp[findall(x -> x == (8, 3), drtp)[begin]], true);"
   ]
  },
  {
   "cell_type": "code",
   "execution_count": 17,
   "metadata": {},
   "outputs": [
    {
     "name": "stdout",
     "output_type": "stream",
     "text": [
      "Twin Primes : (999999191, 999999193)\n",
      "Product     : 999998384000652863\n",
      "Step 1      : 98\n",
      "Step 2      : 17\n",
      "Step 3      : 8\n"
     ]
    }
   ],
   "source": [
    "# Last occurence of 3 steps (in twin primes vector)\n",
    "digital_root(tp[findall(x -> x == (8, 3), drtp)[end]], true);"
   ]
  }
 ],
 "metadata": {
  "kernelspec": {
   "display_name": "Julia 1.7.2",
   "language": "julia",
   "name": "julia-1.7"
  },
  "language_info": {
   "file_extension": ".jl",
   "mimetype": "application/julia",
   "name": "julia",
   "version": "1.7.2"
  },
  "orig_nbformat": 4
 },
 "nbformat": 4,
 "nbformat_minor": 2
}
